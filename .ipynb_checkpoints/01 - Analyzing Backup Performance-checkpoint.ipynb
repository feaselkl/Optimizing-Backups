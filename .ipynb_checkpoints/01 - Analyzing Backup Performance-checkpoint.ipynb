{
 "cells": [
  {
   "cell_type": "markdown",
   "metadata": {},
   "source": [
    "# Analyzing Backup Performance\n",
    "\n",
    "There are several knobs we can turn to tune backup performance, but there isn't a great deal of guidance on what the best settings are for our environment, other than \"try them and see!\"  A big part of this is that the underlying hardware makes so much of a difference:  being I/O bound on backups means you want to configure things differently from if you are CPU-bound.  Also, if you are backing up a very busy system, you don't want to make the backup so well-tuned that it suddenly takes up 100% of your CPU.  This leads to a series of tradeoffs in configurable settings.\n",
    "\n",
    "The most important of those settings are:\n",
    "* Block Size -- The physical block size.  This really only matters for backup tapes and CD-ROMs but it is still settable.  Valid values:  { 0.5kb, 1kb, 2kb, 4kb, 8kb, 16kb, 32kb, 64kb }\n",
    "* Max Transfer Size -- Maximum amount of data to be transferred per operation.  Valid values:  { 64kb, 128kb, 256kb, 512kb, 1mb, 2mb, 4mb }\n",
    "* Buffer Count -- Number of buffers of size [MaxTransferSize] to be created.  Valid values:  { 1:N } but I probably wouldn't go above about 1024 without good reason, as with a MaxTransferSize of 4MB, that's up to 4GB of memory used for a single backup.\n",
    "* File Count -- Tell SQL Server to stripe your backup across multiple files.  This is a nice way of getting extra throughput out of your backups.  Valid values:  { 1:N } but I probably wouldn't go above 10-12 without good reason.\n",
    "* Compression -- Tell SQL Server whether or not you want to compress your backup.  This has a very minor cost of CPU but typically leads to **much** smaller backups, so my default is to say yes.  Valid values:  { TRUE, FALSE }\n",
    "\n",
    "Armed with this knowledge, let's say you now want to go tune your systems.  Well, there are a **lot** of combinations.  Let's suppose that we go with the following options:\n",
    "* Block Size:  { 0.5kb, 1kb, 2kb, 4kb, 8kb, 16kb, 32kb, 64kb }\n",
    "* Max Transfer Size:  { 64kb, 128kb, 256kb, 512kb, 1mb, 2mb, 4mb }\n",
    "* Buffer Count:  { 7, 15, 30, 60, 128, 256, 512, 1024 }\n",
    "* File Count:  { 1, 2, 4, 6, 8, 10, 12 }\n",
    "* Compression:  { TRUE }\n",
    "\n",
    "This gives us 3136 separate options.  If your full backup averages 10 minutes, that's an expectation of 224 hours straight of backups to try each of these options.  If you have a terabyte-sized backup which takes 90 minutes to complete, you'll get your answer in approximately 84 days.\n",
    "\n",
    "But there's a not-so-secret weapon we can use:  sampling.  Without getting into the statistics of the problem, we can decide to take a random sample of the full set of options and perform an analysis on it.  With a reasonable-sized sample, we can get somewhere close to the actual population values in a fraction of the time.\n",
    "\n",
    "My sample today is from two databases at six sizes.  I have one database called BAC which includes four separate versions:  the full 136 GB, 89.24 GB, 57.89 GB, and 31.73 GB, where the difference comes from dropping the largest tables one at a time.  In addition, I have two versions of the Stack Overflow database:  one from 2010 when it was 10 GB in size, and another from 2013 when it was 50 GB in size.\n",
    "\n",
    "I built a Powershell script which builds a Cartesian product of my input arrays (that is, the parameters I laid out above) and runs the [dbatools](https://dbatools.io) cmdlet Backup-DbaDatabase.  I'm writing the output results to an output file.  Then, I manually added a header with the variable names to make it easier to import into R.  I'm sampling the Cartesian product, performing only about 3% of the total number of tests.  That's still a lot of tests, but it's a much more tractable problem:  it means taking about 100 database backups rather than 3000.\n",
    "\n",
    "The Powershell code is available in the `SampleBackupOptions.ps1` script.\n",
    "\n",
    "First, we will load the `tidyverse` package.  Then, we will load a package called `randomForest`.  This lets us use a random forest model to analyze our data.  We will load the `caret` package to help us partition training from test data.  Finally, the `evtree` pakage will let us build expected value trees using evolutionary learning (genetic algorithms)."
   ]
  },
  {
   "cell_type": "code",
   "execution_count": 102,
   "metadata": {},
   "outputs": [
    {
     "name": "stderr",
     "output_type": "stream",
     "text": [
      "Loading required package: evtree\n",
      "Warning message in library(package, lib.loc = lib.loc, character.only = TRUE, logical.return = TRUE, :\n",
      "\"there is no package called 'evtree'\"Installing package into 'C:/Users/fease/Documents/R/win-library/3.5'\n",
      "(as 'lib' is unspecified)\n",
      "also installing the dependencies 'libcoin', 'mvtnorm', 'Formula', 'inum', 'partykit'\n",
      "\n"
     ]
    },
    {
     "name": "stdout",
     "output_type": "stream",
     "text": [
      "package 'libcoin' successfully unpacked and MD5 sums checked\n",
      "package 'mvtnorm' successfully unpacked and MD5 sums checked\n",
      "package 'Formula' successfully unpacked and MD5 sums checked\n",
      "package 'inum' successfully unpacked and MD5 sums checked\n",
      "package 'partykit' successfully unpacked and MD5 sums checked\n",
      "package 'evtree' successfully unpacked and MD5 sums checked\n",
      "\n",
      "The downloaded binary packages are in\n",
      "\tC:\\Users\\fease\\AppData\\Local\\Temp\\Rtmpcfnn9V\\downloaded_packages\n"
     ]
    },
    {
     "name": "stderr",
     "output_type": "stream",
     "text": [
      "Warning message:\n",
      "\"package 'evtree' was built under R version 3.5.3\"Loading required package: partykit\n",
      "Warning message:\n",
      "\"package 'partykit' was built under R version 3.5.3\"Loading required package: grid\n",
      "Loading required package: libcoin\n",
      "Warning message:\n",
      "\"package 'libcoin' was built under R version 3.5.3\"Loading required package: mvtnorm\n",
      "Warning message:\n",
      "\"package 'mvtnorm' was built under R version 3.5.3\""
     ]
    }
   ],
   "source": [
    "if(!require(tidyverse)) {\n",
    "  install.packages(\"tidyverse\", repos = \"http://cran.us.r-project.org\")\n",
    "  library(tidyverse)\n",
    "}\n",
    "\n",
    "if(!require(randomForest)) {\n",
    "  install.packages(\"randomForest\", repos = \"http://cran.us.r-project.org\")\n",
    "  library(randomForest)\n",
    "}\n",
    "\n",
    "if(!require(caret)) {\n",
    "  install.packages(\"caret\", repos = \"http://cran.us.r-project.org\")\n",
    "  library(randomForest)\n",
    "}\n",
    "\n",
    "if(!require(evtree)) {\n",
    "    install.packages(\"evtree\", repos = \"http://cran.us.r-project.org\")\n",
    "    library(evtree)\n",
    "}"
   ]
  },
  {
   "cell_type": "markdown",
   "metadata": {},
   "source": [
    "I am using data from six databases of different sizes.  Each file has the same set of variables in the same order.\n",
    "\n",
    "**NOTE** -- If you get an error when trying to load your own files, make sure that the file is in UTF-8 or ASCII format.  Powershell generates UCS-2 LE BOM files by default and R has trouble reading those."
   ]
  },
  {
   "cell_type": "code",
   "execution_count": 125,
   "metadata": {},
   "outputs": [],
   "source": [
    "bac_31gb <- readr::read_delim(\"Data/BAC_31.73GB_PerfTest.csv\", delim = \",\",\n",
    "  col_names = c(\"BlockSize\", \"BufferCount\", \"MaxTransferSize\", \"FileCount\", \"Duration\"),\n",
    "  col_types = cols(\n",
    "      BlockSize = col_integer(),\n",
    "      BufferCount = col_integer(),\n",
    "      MaxTransferSize = col_integer(),\n",
    "      FileCount = col_integer(),\n",
    "      Duration = col_integer()\n",
    "))\n",
    "\n",
    "bac_58gb <- readr::read_delim(\"Data/BAC_57.89GB_PerfTest.csv\", delim = \",\",\n",
    "  col_names = c(\"BlockSize\", \"BufferCount\", \"MaxTransferSize\", \"FileCount\", \"Duration\"),\n",
    "  col_types = cols(\n",
    "      BlockSize = col_integer(),\n",
    "      BufferCount = col_integer(),\n",
    "      MaxTransferSize = col_integer(),\n",
    "      FileCount = col_integer(),\n",
    "      Duration = col_integer()\n",
    "))\n",
    "\n",
    "bac_89gb <- readr::read_delim(\"Data/BAC_89.24GB_PerfTest.csv\", delim = \",\",\n",
    "  col_names = c(\"BlockSize\", \"BufferCount\", \"MaxTransferSize\", \"FileCount\", \"Duration\"),\n",
    "  col_types = cols(\n",
    "      BlockSize = col_integer(),\n",
    "      BufferCount = col_integer(),\n",
    "      MaxTransferSize = col_integer(),\n",
    "      FileCount = col_integer(),\n",
    "      Duration = col_integer()\n",
    "))\n",
    "\n",
    "bac_136gb <- readr::read_delim(\"Data/BAC_136GB_PerfTest.csv\", delim = \",\",\n",
    "  col_names = c(\"BlockSize\", \"BufferCount\", \"MaxTransferSize\", \"FileCount\", \"Duration\"),\n",
    "  col_types = cols(\n",
    "      BlockSize = col_integer(),\n",
    "      BufferCount = col_integer(),\n",
    "      MaxTransferSize = col_integer(),\n",
    "      FileCount = col_integer(),\n",
    "      Duration = col_integer()\n",
    "))\n",
    "\n",
    "so_10gb <- readr::read_delim(\"Data/SO2010_10GB_PerfTest.csv\", delim = \",\",\n",
    "  col_names = c(\"BlockSize\", \"BufferCount\", \"MaxTransferSize\", \"FileCount\", \"Duration\"),\n",
    "  col_types = cols(\n",
    "      BlockSize = col_integer(),\n",
    "      BufferCount = col_integer(),\n",
    "      MaxTransferSize = col_integer(),\n",
    "      FileCount = col_integer(),\n",
    "      Duration = col_integer()\n",
    "))\n",
    "\n",
    "so_50gb <- readr::read_delim(\"Data/SO2013_50GB_PerfTest.csv\", delim = \",\",\n",
    "  col_names = c(\"BlockSize\", \"BufferCount\", \"MaxTransferSize\", \"FileCount\", \"Duration\"),\n",
    "  col_types = cols(\n",
    "      BlockSize = col_integer(),\n",
    "      BufferCount = col_integer(),\n",
    "      MaxTransferSize = col_integer(),\n",
    "      FileCount = col_integer(),\n",
    "      Duration = col_integer()\n",
    "))\n"
   ]
  },
  {
   "cell_type": "markdown",
   "metadata": {},
   "source": [
    "I want to be able to combine the sets of data together and draw conclusions across the broader scope.  In order to differentiate the sets of data, I have added in a new variable, DatabaseSize."
   ]
  },
  {
   "cell_type": "code",
   "execution_count": 126,
   "metadata": {},
   "outputs": [],
   "source": [
    "bac_31gb$DatabaseSize <- 31.73\n",
    "bac_58gb$DatabaseSize <- 57.89\n",
    "bac_89gb$DatabaseSize <- 89.24\n",
    "bac_136gb$DatabaseSize <- 136.\n",
    "so_10gb$DatabaseSize <- 10.\n",
    "so_50gb$DatabaseSize <- 50.\n",
    "\n",
    "backupstats <- rbind(bac_31gb, bac_58gb, bac_89gb, bac_136gb, so_10gb, so_50gb)"
   ]
  },
  {
   "cell_type": "markdown",
   "metadata": {},
   "source": [
    "To help interpret the results a bit easier, I'm converting block size to kilobytes and max transfer size to 64 kilobyte chunks.  Otherwise, in the linear regression below, we'd have to think about the change in a single byte, and that's a bit crazy.  These are linear transformations of independent variables, so this change does not affect the end results aside from scaling the betas."
   ]
  },
  {
   "cell_type": "code",
   "execution_count": 127,
   "metadata": {},
   "outputs": [],
   "source": [
    "backupstats$BlockSizeKB <- backupstats$BlockSize / 1024.0\n",
    "backupstats$MaxTransferSize64KB <- backupstats$MaxTransferSize / (1024.0 * 64)"
   ]
  },
  {
   "cell_type": "markdown",
   "metadata": {},
   "source": [
    "## Building A Random Forest -- Take 1\n",
    "\n",
    "I'd first like to try creating a random forest with this input data.  I'm going to create 2000 trees and will include importance information."
   ]
  },
  {
   "cell_type": "code",
   "execution_count": 128,
   "metadata": {},
   "outputs": [],
   "source": [
    "model <- randomForest::randomForest(Duration ~ BlockSizeKB + BufferCount + MaxTransferSize64KB + FileCount + DatabaseSize,\n",
    "               data = backupstats,\n",
    "               ntree=2000,\n",
    "               importance=TRUE\n",
    "           )"
   ]
  },
  {
   "cell_type": "markdown",
   "metadata": {},
   "source": [
    "Because I included importance information, I can call the `importance` function to see which variables are most effective in describing duration.  By default, this function call returns two variables:  percent increase in mean squared error (`%IncMSE`) and increase in node purity `IncNodePurity`.  The increase in node purity is a biased measure which we should only use if `%IncMSE` is too expensive to calculate ([source](https://stats.stackexchange.com/questions/162465/in-a-random-forest-is-larger-incmse-better-or-worse)), so we will focus on the MSE changes."
   ]
  },
  {
   "cell_type": "code",
   "execution_count": 129,
   "metadata": {
    "scrolled": true
   },
   "outputs": [
    {
     "data": {
      "text/html": [
       "<table>\n",
       "<thead><tr><th></th><th scope=col>%IncMSE</th><th scope=col>IncNodePurity</th></tr></thead>\n",
       "<tbody>\n",
       "\t<tr><th scope=row>BlockSizeKB</th><td> -0.2804071</td><td> 173972.8  </td></tr>\n",
       "\t<tr><th scope=row>BufferCount</th><td>  1.5989731</td><td> 173266.3  </td></tr>\n",
       "\t<tr><th scope=row>MaxTransferSize64KB</th><td> -2.2185144</td><td> 149357.7  </td></tr>\n",
       "\t<tr><th scope=row>FileCount</th><td> -3.6168459</td><td> 150626.2  </td></tr>\n",
       "\t<tr><th scope=row>DatabaseSize</th><td>139.1782437</td><td>2761543.9  </td></tr>\n",
       "</tbody>\n",
       "</table>\n"
      ],
      "text/latex": [
       "\\begin{tabular}{r|ll}\n",
       "  & \\%IncMSE & IncNodePurity\\\\\n",
       "\\hline\n",
       "\tBlockSizeKB &  -0.2804071 &  173972.8  \\\\\n",
       "\tBufferCount &   1.5989731 &  173266.3  \\\\\n",
       "\tMaxTransferSize64KB &  -2.2185144 &  149357.7  \\\\\n",
       "\tFileCount &  -3.6168459 &  150626.2  \\\\\n",
       "\tDatabaseSize & 139.1782437 & 2761543.9  \\\\\n",
       "\\end{tabular}\n"
      ],
      "text/markdown": [
       "\n",
       "| <!--/--> | %IncMSE | IncNodePurity | \n",
       "|---|---|---|---|---|\n",
       "| BlockSizeKB |  -0.2804071 |  173972.8   | \n",
       "| BufferCount |   1.5989731 |  173266.3   | \n",
       "| MaxTransferSize64KB |  -2.2185144 |  149357.7   | \n",
       "| FileCount |  -3.6168459 |  150626.2   | \n",
       "| DatabaseSize | 139.1782437 | 2761543.9   | \n",
       "\n",
       "\n"
      ],
      "text/plain": [
       "                    %IncMSE     IncNodePurity\n",
       "BlockSizeKB          -0.2804071  173972.8    \n",
       "BufferCount           1.5989731  173266.3    \n",
       "MaxTransferSize64KB  -2.2185144  149357.7    \n",
       "FileCount            -3.6168459  150626.2    \n",
       "DatabaseSize        139.1782437 2761543.9    "
      ]
     },
     "metadata": {},
     "output_type": "display_data"
    }
   ],
   "source": [
    "randomForest::importance(model, scale=TRUE)"
   ]
  },
  {
   "cell_type": "markdown",
   "metadata": {},
   "source": [
    "Most of our variables have a negative percent included in Mean Squared Error value.  This might be a bit weird to think about:  a negative percentage means that the feature is not relevant.  I'm a bit surprised that max transfer size and file count don't have any effect on backup time.\n",
    "\n",
    "The biggest contender was obviously database size:  larger databases take more time.  After that is buffer count.  But I think that max transfer size and file count really do have an effect; I just think we have a data problem which is preventing us from seeing it.\n",
    "\n",
    "The last thing I want to look at is the percent of variance explained by the model, which I can see by just calling `model`."
   ]
  },
  {
   "cell_type": "code",
   "execution_count": 130,
   "metadata": {},
   "outputs": [
    {
     "data": {
      "text/plain": [
       "\n",
       "Call:\n",
       " randomForest(formula = Duration ~ BlockSizeKB + BufferCount +      MaxTransferSize64KB + FileCount + DatabaseSize, data = backupstats,      ntree = 2000, importance = TRUE) \n",
       "               Type of random forest: regression\n",
       "                     Number of trees: 2000\n",
       "No. of variables tried at each split: 1\n",
       "\n",
       "          Mean of squared residuals: 1085.051\n",
       "                    % Var explained: 86.06"
      ]
     },
     "metadata": {},
     "output_type": "display_data"
    }
   ],
   "source": [
    "model"
   ]
  },
  {
   "cell_type": "markdown",
   "metadata": {},
   "source": [
    "Our model explains 86% of **training** data set's variance.  That's an okay start.  If I were building a predictive model, I would want a separate test data set and compare my model's predictions against reality. But for this case, I really am more interested in seeing what drives change rather than predicting the ideal parameters, so I'll keep moving."
   ]
  },
  {
   "cell_type": "markdown",
   "metadata": {},
   "source": [
    "## Building a Random Forest -- Take 2\n",
    "\n",
    "Our first approach was a bit naive, in the sense that we looked at each variable independently.  But that's not quite how SQL Server works.  The important thing is not necessarily buffer count or max transfer size, but rather the combination of the two, as they tell us how much memory SQL Server allocates to taking the backup.  For example, 7 buffers and a 128 KB max transfer size means that we will use 7 * 128KB = 896KB of memory for the backup itself.\n",
    "\n",
    "Let's convert max transfer size and buffer count into total memory usage.  To avoid integer overflow errors, we will convert max transfer size (which we have in bytes) to megabytes before multiplying by buffer count."
   ]
  },
  {
   "cell_type": "code",
   "execution_count": 131,
   "metadata": {},
   "outputs": [],
   "source": [
    "backupstats$MemoryUsageMB <- (backupstats$MaxTransferSize / (1024.0 * 1024.0)) * backupstats$BufferCount"
   ]
  },
  {
   "cell_type": "code",
   "execution_count": 132,
   "metadata": {},
   "outputs": [],
   "source": [
    "model2 <- randomForest::randomForest(Duration ~ BlockSizeKB + MemoryUsageMB + FileCount + DatabaseSize,\n",
    "               data = backupstats,\n",
    "               ntree=2000,\n",
    "               importance=TRUE\n",
    "           )"
   ]
  },
  {
   "cell_type": "markdown",
   "metadata": {},
   "source": [
    "We will try the same thing as before, except instead of separate max transfer size and buffer count variables, we will use the combination of the two."
   ]
  },
  {
   "cell_type": "code",
   "execution_count": 133,
   "metadata": {},
   "outputs": [
    {
     "data": {
      "text/html": [
       "<table>\n",
       "<thead><tr><th></th><th scope=col>%IncMSE</th><th scope=col>IncNodePurity</th></tr></thead>\n",
       "<tbody>\n",
       "\t<tr><th scope=row>BlockSizeKB</th><td>  1.8455497</td><td> 148023.3  </td></tr>\n",
       "\t<tr><th scope=row>MemoryUsageMB</th><td>  9.1167057</td><td> 230645.7  </td></tr>\n",
       "\t<tr><th scope=row>FileCount</th><td>  0.3464133</td><td> 124435.2  </td></tr>\n",
       "\t<tr><th scope=row>DatabaseSize</th><td>177.4819351</td><td>3110149.3  </td></tr>\n",
       "</tbody>\n",
       "</table>\n"
      ],
      "text/latex": [
       "\\begin{tabular}{r|ll}\n",
       "  & \\%IncMSE & IncNodePurity\\\\\n",
       "\\hline\n",
       "\tBlockSizeKB &   1.8455497 &  148023.3  \\\\\n",
       "\tMemoryUsageMB &   9.1167057 &  230645.7  \\\\\n",
       "\tFileCount &   0.3464133 &  124435.2  \\\\\n",
       "\tDatabaseSize & 177.4819351 & 3110149.3  \\\\\n",
       "\\end{tabular}\n"
      ],
      "text/markdown": [
       "\n",
       "| <!--/--> | %IncMSE | IncNodePurity | \n",
       "|---|---|---|---|\n",
       "| BlockSizeKB |   1.8455497 |  148023.3   | \n",
       "| MemoryUsageMB |   9.1167057 |  230645.7   | \n",
       "| FileCount |   0.3464133 |  124435.2   | \n",
       "| DatabaseSize | 177.4819351 | 3110149.3   | \n",
       "\n",
       "\n"
      ],
      "text/plain": [
       "              %IncMSE     IncNodePurity\n",
       "BlockSizeKB     1.8455497  148023.3    \n",
       "MemoryUsageMB   9.1167057  230645.7    \n",
       "FileCount       0.3464133  124435.2    \n",
       "DatabaseSize  177.4819351 3110149.3    "
      ]
     },
     "metadata": {},
     "output_type": "display_data"
    }
   ],
   "source": [
    "randomForest::importance(model2, scale=TRUE)"
   ]
  },
  {
   "cell_type": "markdown",
   "metadata": {},
   "source": [
    "Now things get interesting:  notice that signs have flipped:  now everything is positive.  The reason is that buffer count and max transfer size are **parts** of a relevant feature:  memory usage.  Without the appropriate feature and using just its component parts, we had a radically different result.\n",
    "\n",
    "We can see that the combination of the two features is stronger than either one independently.  Let's see how the model scores overall."
   ]
  },
  {
   "cell_type": "code",
   "execution_count": 134,
   "metadata": {},
   "outputs": [
    {
     "data": {
      "text/plain": [
       "\n",
       "Call:\n",
       " randomForest(formula = Duration ~ BlockSizeKB + MemoryUsageMB +      FileCount + DatabaseSize, data = backupstats, ntree = 2000,      importance = TRUE) \n",
       "               Type of random forest: regression\n",
       "                     Number of trees: 2000\n",
       "No. of variables tried at each split: 1\n",
       "\n",
       "          Mean of squared residuals: 634.3813\n",
       "                    % Var explained: 91.85"
      ]
     },
     "metadata": {},
     "output_type": "display_data"
    }
   ],
   "source": [
    "model2"
   ]
  },
  {
   "cell_type": "markdown",
   "metadata": {},
   "source": [
    "We can see that this increases variance explained as well, so we have a stronger model and a better indication of what matters.\n",
    "\n",
    "But there's another thing we can do to try to make this better."
   ]
  },
  {
   "cell_type": "markdown",
   "metadata": {},
   "source": [
    "## Building a Random Forest -- Take 3\n",
    "\n",
    "So far, the dominating factor in our model is the datbase size, and that makes a lot of sense:  it takes more time to back up a larger database than a smaller one.  What would be great is if we could get an idea of this independent of database size.  To do that, we'll change our dependent variable from number of seconds to gigabytes processed per second.  We might lose the `DatabaseSize` feature in the process, but we'll see if that helps us any."
   ]
  },
  {
   "cell_type": "code",
   "execution_count": 135,
   "metadata": {},
   "outputs": [],
   "source": [
    "backupstats$SecPerGB <- backupstats$Duration / backupstats$DatabaseSize"
   ]
  },
  {
   "cell_type": "code",
   "execution_count": 136,
   "metadata": {},
   "outputs": [],
   "source": [
    "model3 <- randomForest::randomForest(SecPerGB ~ BlockSizeKB + MemoryUsageMB + FileCount + DatabaseSize,\n",
    "               data = backupstats,\n",
    "               ntree=2000,\n",
    "               importance=TRUE\n",
    "           )"
   ]
  },
  {
   "cell_type": "markdown",
   "metadata": {},
   "source": [
    "With this new model in place, let's look at the importance measures."
   ]
  },
  {
   "cell_type": "code",
   "execution_count": 137,
   "metadata": {},
   "outputs": [
    {
     "data": {
      "text/html": [
       "<table>\n",
       "<thead><tr><th></th><th scope=col>%IncMSE</th><th scope=col>IncNodePurity</th></tr></thead>\n",
       "<tbody>\n",
       "\t<tr><th scope=row>BlockSizeKB</th><td> 6.83259 </td><td> 3.615819</td></tr>\n",
       "\t<tr><th scope=row>MemoryUsageMB</th><td>72.10212 </td><td>15.949337</td></tr>\n",
       "\t<tr><th scope=row>FileCount</th><td>21.24623 </td><td> 5.340938</td></tr>\n",
       "\t<tr><th scope=row>DatabaseSize</th><td>78.58584 </td><td>12.834997</td></tr>\n",
       "</tbody>\n",
       "</table>\n"
      ],
      "text/latex": [
       "\\begin{tabular}{r|ll}\n",
       "  & \\%IncMSE & IncNodePurity\\\\\n",
       "\\hline\n",
       "\tBlockSizeKB &  6.83259  &  3.615819\\\\\n",
       "\tMemoryUsageMB & 72.10212  & 15.949337\\\\\n",
       "\tFileCount & 21.24623  &  5.340938\\\\\n",
       "\tDatabaseSize & 78.58584  & 12.834997\\\\\n",
       "\\end{tabular}\n"
      ],
      "text/markdown": [
       "\n",
       "| <!--/--> | %IncMSE | IncNodePurity | \n",
       "|---|---|---|---|\n",
       "| BlockSizeKB |  6.83259  |  3.615819 | \n",
       "| MemoryUsageMB | 72.10212  | 15.949337 | \n",
       "| FileCount | 21.24623  |  5.340938 | \n",
       "| DatabaseSize | 78.58584  | 12.834997 | \n",
       "\n",
       "\n"
      ],
      "text/plain": [
       "              %IncMSE  IncNodePurity\n",
       "BlockSizeKB    6.83259  3.615819    \n",
       "MemoryUsageMB 72.10212 15.949337    \n",
       "FileCount     21.24623  5.340938    \n",
       "DatabaseSize  78.58584 12.834997    "
      ]
     },
     "metadata": {},
     "output_type": "display_data"
    }
   ],
   "source": [
    "randomForest::importance(model3, scale=TRUE)"
   ]
  },
  {
   "cell_type": "markdown",
   "metadata": {},
   "source": [
    "Now we have a couple of interesting findings:  first, block size has become the smallest feature in terms of explanatory value.  That's an indication that block size is **not** important in determining the amount of time needed to process a backup.  Second, memory usage is now just as important than database size, which tells us that having more memory in place does seem to help out on net.  Finally, file count has become somewhat important, though less important than database size in general or memory usage."
   ]
  },
  {
   "cell_type": "code",
   "execution_count": 138,
   "metadata": {},
   "outputs": [
    {
     "data": {
      "text/plain": [
       "\n",
       "Call:\n",
       " randomForest(formula = SecPerGB ~ BlockSizeKB + MemoryUsageMB +      FileCount + DatabaseSize, data = backupstats, ntree = 2000,      importance = TRUE) \n",
       "               Type of random forest: regression\n",
       "                     Number of trees: 2000\n",
       "No. of variables tried at each split: 1\n",
       "\n",
       "          Mean of squared residuals: 0.04878339\n",
       "                    % Var explained: 52.68"
      ]
     },
     "metadata": {},
     "output_type": "display_data"
    }
   ],
   "source": [
    "model3"
   ]
  },
  {
   "cell_type": "markdown",
   "metadata": {},
   "source": [
    "Our explained variance has dropped considerably.  It would appear that there are some factors which don't explain very well how quickly we process a database."
   ]
  },
  {
   "cell_type": "markdown",
   "metadata": {},
   "source": [
    "## Testing The Boundaries\n",
    "\n",
    "What I'm going to do next is keep three of my four variables fixed and modify the fourth to get a better understanding of what the overall model thinks.  Remember that our prediction is seconds per GB, so lower numbers are better.  Also, we will keep block size fixed because it appears not to have much impact in this final model."
   ]
  },
  {
   "cell_type": "code",
   "execution_count": 139,
   "metadata": {},
   "outputs": [
    {
     "data": {
      "text/html": [
       "<table>\n",
       "<thead><tr><th scope=col>BlockSizeKB</th><th scope=col>MemoryUsageMB</th><th scope=col>FileCount</th><th scope=col>DatabaseSize</th><th scope=col>prediction</th><th scope=col>seconds</th></tr></thead>\n",
       "<tbody>\n",
       "\t<tr><td>16      </td><td>       7</td><td>4       </td><td>17      </td><td>2.049607</td><td>34.84332</td></tr>\n",
       "\t<tr><td>16      </td><td>       1</td><td>4       </td><td>17      </td><td>2.112088</td><td>35.90549</td></tr>\n",
       "\t<tr><td>16      </td><td>       2</td><td>4       </td><td>17      </td><td>2.086688</td><td>35.47369</td></tr>\n",
       "\t<tr><td>16      </td><td>       4</td><td>4       </td><td>17      </td><td>2.085076</td><td>35.44629</td></tr>\n",
       "\t<tr><td>16      </td><td>      16</td><td>4       </td><td>17      </td><td>2.024009</td><td>34.40815</td></tr>\n",
       "\t<tr><td>16      </td><td>      32</td><td>4       </td><td>17      </td><td>1.983371</td><td>33.71731</td></tr>\n",
       "\t<tr><td>16      </td><td>     128</td><td>4       </td><td>17      </td><td>1.816141</td><td>30.87440</td></tr>\n",
       "\t<tr><td>16      </td><td>     512</td><td>4       </td><td>17      </td><td>1.790372</td><td>30.43632</td></tr>\n",
       "\t<tr><td>16      </td><td>    1024</td><td>4       </td><td>17      </td><td>1.773635</td><td>30.15180</td></tr>\n",
       "\t<tr><td>16      </td><td>    2048</td><td>4       </td><td>17      </td><td>1.754126</td><td>29.82014</td></tr>\n",
       "\t<tr><td>16      </td><td>    4095</td><td>4       </td><td>17      </td><td>1.710476</td><td>29.07809</td></tr>\n",
       "\t<tr><td>16      </td><td>    4096</td><td>4       </td><td>17      </td><td>1.710476</td><td>29.07809</td></tr>\n",
       "\t<tr><td>16      </td><td>   20480</td><td>4       </td><td>17      </td><td>1.710476</td><td>29.07809</td></tr>\n",
       "\t<tr><td>16      </td><td>  409600</td><td>4       </td><td>17      </td><td>1.710476</td><td>29.07809</td></tr>\n",
       "\t<tr><td>16      </td><td>81920000</td><td>4       </td><td>17      </td><td>1.710476</td><td>29.07809</td></tr>\n",
       "</tbody>\n",
       "</table>\n"
      ],
      "text/latex": [
       "\\begin{tabular}{r|llllll}\n",
       " BlockSizeKB & MemoryUsageMB & FileCount & DatabaseSize & prediction & seconds\\\\\n",
       "\\hline\n",
       "\t 16       &        7 & 4        & 17       & 2.049607 & 34.84332\\\\\n",
       "\t 16       &        1 & 4        & 17       & 2.112088 & 35.90549\\\\\n",
       "\t 16       &        2 & 4        & 17       & 2.086688 & 35.47369\\\\\n",
       "\t 16       &        4 & 4        & 17       & 2.085076 & 35.44629\\\\\n",
       "\t 16       &       16 & 4        & 17       & 2.024009 & 34.40815\\\\\n",
       "\t 16       &       32 & 4        & 17       & 1.983371 & 33.71731\\\\\n",
       "\t 16       &      128 & 4        & 17       & 1.816141 & 30.87440\\\\\n",
       "\t 16       &      512 & 4        & 17       & 1.790372 & 30.43632\\\\\n",
       "\t 16       &     1024 & 4        & 17       & 1.773635 & 30.15180\\\\\n",
       "\t 16       &     2048 & 4        & 17       & 1.754126 & 29.82014\\\\\n",
       "\t 16       &     4095 & 4        & 17       & 1.710476 & 29.07809\\\\\n",
       "\t 16       &     4096 & 4        & 17       & 1.710476 & 29.07809\\\\\n",
       "\t 16       &    20480 & 4        & 17       & 1.710476 & 29.07809\\\\\n",
       "\t 16       &   409600 & 4        & 17       & 1.710476 & 29.07809\\\\\n",
       "\t 16       & 81920000 & 4        & 17       & 1.710476 & 29.07809\\\\\n",
       "\\end{tabular}\n"
      ],
      "text/markdown": [
       "\n",
       "BlockSizeKB | MemoryUsageMB | FileCount | DatabaseSize | prediction | seconds | \n",
       "|---|---|---|---|---|---|---|---|---|---|---|---|---|---|---|\n",
       "| 16       |        7 | 4        | 17       | 2.049607 | 34.84332 | \n",
       "| 16       |        1 | 4        | 17       | 2.112088 | 35.90549 | \n",
       "| 16       |        2 | 4        | 17       | 2.086688 | 35.47369 | \n",
       "| 16       |        4 | 4        | 17       | 2.085076 | 35.44629 | \n",
       "| 16       |       16 | 4        | 17       | 2.024009 | 34.40815 | \n",
       "| 16       |       32 | 4        | 17       | 1.983371 | 33.71731 | \n",
       "| 16       |      128 | 4        | 17       | 1.816141 | 30.87440 | \n",
       "| 16       |      512 | 4        | 17       | 1.790372 | 30.43632 | \n",
       "| 16       |     1024 | 4        | 17       | 1.773635 | 30.15180 | \n",
       "| 16       |     2048 | 4        | 17       | 1.754126 | 29.82014 | \n",
       "| 16       |     4095 | 4        | 17       | 1.710476 | 29.07809 | \n",
       "| 16       |     4096 | 4        | 17       | 1.710476 | 29.07809 | \n",
       "| 16       |    20480 | 4        | 17       | 1.710476 | 29.07809 | \n",
       "| 16       |   409600 | 4        | 17       | 1.710476 | 29.07809 | \n",
       "| 16       | 81920000 | 4        | 17       | 1.710476 | 29.07809 | \n",
       "\n",
       "\n"
      ],
      "text/plain": [
       "   BlockSizeKB MemoryUsageMB FileCount DatabaseSize prediction seconds \n",
       "1  16                 7      4         17           2.049607   34.84332\n",
       "2  16                 1      4         17           2.112088   35.90549\n",
       "3  16                 2      4         17           2.086688   35.47369\n",
       "4  16                 4      4         17           2.085076   35.44629\n",
       "5  16                16      4         17           2.024009   34.40815\n",
       "6  16                32      4         17           1.983371   33.71731\n",
       "7  16               128      4         17           1.816141   30.87440\n",
       "8  16               512      4         17           1.790372   30.43632\n",
       "9  16              1024      4         17           1.773635   30.15180\n",
       "10 16              2048      4         17           1.754126   29.82014\n",
       "11 16              4095      4         17           1.710476   29.07809\n",
       "12 16              4096      4         17           1.710476   29.07809\n",
       "13 16             20480      4         17           1.710476   29.07809\n",
       "14 16            409600      4         17           1.710476   29.07809\n",
       "15 16          81920000      4         17           1.710476   29.07809"
      ]
     },
     "metadata": {},
     "output_type": "display_data"
    }
   ],
   "source": [
    "buffer_test <- data.frame(16, c(7, 1, 2, 4, 16, 32, 128, 512, 1024, 2048, 4095, 4096, 20480, 409600, 81920000), 4, 17)\n",
    "names(buffer_test) <- c(\"BlockSizeKB\", \"MemoryUsageMB\", \"FileCount\", \"DatabaseSize\")\n",
    "buffer_test$prediction <- predict(model3, buffer_test)\n",
    "buffer_test$seconds <- buffer_test$DatabaseSize * buffer_test$prediction\n",
    "buffer_test"
   ]
  },
  {
   "cell_type": "markdown",
   "metadata": {},
   "source": [
    "SQL Server's default for backups is often 7 buffers and 1MB max transfer size, for a total of 7MB memory usage.  At that level, a backup of 17GB is expected to take about 34 seconds given this model.\n",
    "\n",
    "If we bump the buffers up, we max out somewhere between 2GB and 4GB.  The largest values we have are 4GB, so we should not trust a random forest regression above that level.\n",
    "\n",
    "If we look at similar comps, we don't have anything precisely matching, but there are a couple with 128MB memory usage and 1.73-1.79 seconds per GB, which is close to the 1.81 we predicted."
   ]
  },
  {
   "cell_type": "code",
   "execution_count": 141,
   "metadata": {},
   "outputs": [
    {
     "data": {
      "text/html": [
       "<table>\n",
       "<thead><tr><th scope=col>BlockSize</th><th scope=col>BufferCount</th><th scope=col>MaxTransferSize</th><th scope=col>FileCount</th><th scope=col>Duration</th><th scope=col>DatabaseSize</th><th scope=col>BlockSizeKB</th><th scope=col>MaxTransferSize64KB</th><th scope=col>MemoryUsageMB</th><th scope=col>SecPerGB</th></tr></thead>\n",
       "<tbody>\n",
       "\t<tr><td>16384   </td><td>  30    </td><td> 131072 </td><td>4       </td><td>211     </td><td> 89.24  </td><td>16      </td><td> 2      </td><td>   3.75 </td><td>2.364411</td></tr>\n",
       "\t<tr><td>16384   </td><td>   7    </td><td>1048576 </td><td>4       </td><td>125     </td><td> 57.89  </td><td>16      </td><td>16      </td><td>   7.00 </td><td>2.159268</td></tr>\n",
       "\t<tr><td>16384   </td><td>  15    </td><td> 524288 </td><td>4       </td><td>303     </td><td>136.00  </td><td>16      </td><td> 8      </td><td>   7.50 </td><td>2.227941</td></tr>\n",
       "\t<tr><td>16384   </td><td>   7    </td><td>4194304 </td><td>4       </td><td>134     </td><td> 50.00  </td><td>16      </td><td>64      </td><td>  28.00 </td><td>2.680000</td></tr>\n",
       "\t<tr><td>16384   </td><td>  30    </td><td>1048576 </td><td>4       </td><td>298     </td><td>136.00  </td><td>16      </td><td>16      </td><td>  30.00 </td><td>2.191176</td></tr>\n",
       "\t<tr><td>16384   </td><td>  30    </td><td>2097152 </td><td>4       </td><td>120     </td><td> 50.00  </td><td>16      </td><td>32      </td><td>  60.00 </td><td>2.400000</td></tr>\n",
       "\t<tr><td>16384   </td><td> 128    </td><td>1048576 </td><td>4       </td><td> 55     </td><td> 31.73  </td><td>16      </td><td>16      </td><td> 128.00 </td><td>1.733375</td></tr>\n",
       "\t<tr><td>16384   </td><td> 256    </td><td> 524288 </td><td>4       </td><td> 57     </td><td> 31.73  </td><td>16      </td><td> 8      </td><td> 128.00 </td><td>1.796407</td></tr>\n",
       "\t<tr><td>16384   </td><td>1024    </td><td> 262144 </td><td>4       </td><td> 51     </td><td> 31.73  </td><td>16      </td><td> 4      </td><td> 256.00 </td><td>1.607312</td></tr>\n",
       "\t<tr><td>16384   </td><td> 512    </td><td>4194304 </td><td>4       </td><td>280     </td><td>136.00  </td><td>16      </td><td>64      </td><td>2048.00 </td><td>2.058824</td></tr>\n",
       "\t<tr><td>16384   </td><td>1024    </td><td>2097152 </td><td>4       </td><td> 96     </td><td> 50.00  </td><td>16      </td><td>32      </td><td>2048.00 </td><td>1.920000</td></tr>\n",
       "</tbody>\n",
       "</table>\n"
      ],
      "text/latex": [
       "\\begin{tabular}{r|llllllllll}\n",
       " BlockSize & BufferCount & MaxTransferSize & FileCount & Duration & DatabaseSize & BlockSizeKB & MaxTransferSize64KB & MemoryUsageMB & SecPerGB\\\\\n",
       "\\hline\n",
       "\t 16384    &   30     &  131072  & 4        & 211      &  89.24   & 16       &  2       &    3.75  & 2.364411\\\\\n",
       "\t 16384    &    7     & 1048576  & 4        & 125      &  57.89   & 16       & 16       &    7.00  & 2.159268\\\\\n",
       "\t 16384    &   15     &  524288  & 4        & 303      & 136.00   & 16       &  8       &    7.50  & 2.227941\\\\\n",
       "\t 16384    &    7     & 4194304  & 4        & 134      &  50.00   & 16       & 64       &   28.00  & 2.680000\\\\\n",
       "\t 16384    &   30     & 1048576  & 4        & 298      & 136.00   & 16       & 16       &   30.00  & 2.191176\\\\\n",
       "\t 16384    &   30     & 2097152  & 4        & 120      &  50.00   & 16       & 32       &   60.00  & 2.400000\\\\\n",
       "\t 16384    &  128     & 1048576  & 4        &  55      &  31.73   & 16       & 16       &  128.00  & 1.733375\\\\\n",
       "\t 16384    &  256     &  524288  & 4        &  57      &  31.73   & 16       &  8       &  128.00  & 1.796407\\\\\n",
       "\t 16384    & 1024     &  262144  & 4        &  51      &  31.73   & 16       &  4       &  256.00  & 1.607312\\\\\n",
       "\t 16384    &  512     & 4194304  & 4        & 280      & 136.00   & 16       & 64       & 2048.00  & 2.058824\\\\\n",
       "\t 16384    & 1024     & 2097152  & 4        &  96      &  50.00   & 16       & 32       & 2048.00  & 1.920000\\\\\n",
       "\\end{tabular}\n"
      ],
      "text/markdown": [
       "\n",
       "BlockSize | BufferCount | MaxTransferSize | FileCount | Duration | DatabaseSize | BlockSizeKB | MaxTransferSize64KB | MemoryUsageMB | SecPerGB | \n",
       "|---|---|---|---|---|---|---|---|---|---|---|\n",
       "| 16384    |   30     |  131072  | 4        | 211      |  89.24   | 16       |  2       |    3.75  | 2.364411 | \n",
       "| 16384    |    7     | 1048576  | 4        | 125      |  57.89   | 16       | 16       |    7.00  | 2.159268 | \n",
       "| 16384    |   15     |  524288  | 4        | 303      | 136.00   | 16       |  8       |    7.50  | 2.227941 | \n",
       "| 16384    |    7     | 4194304  | 4        | 134      |  50.00   | 16       | 64       |   28.00  | 2.680000 | \n",
       "| 16384    |   30     | 1048576  | 4        | 298      | 136.00   | 16       | 16       |   30.00  | 2.191176 | \n",
       "| 16384    |   30     | 2097152  | 4        | 120      |  50.00   | 16       | 32       |   60.00  | 2.400000 | \n",
       "| 16384    |  128     | 1048576  | 4        |  55      |  31.73   | 16       | 16       |  128.00  | 1.733375 | \n",
       "| 16384    |  256     |  524288  | 4        |  57      |  31.73   | 16       |  8       |  128.00  | 1.796407 | \n",
       "| 16384    | 1024     |  262144  | 4        |  51      |  31.73   | 16       |  4       |  256.00  | 1.607312 | \n",
       "| 16384    |  512     | 4194304  | 4        | 280      | 136.00   | 16       | 64       | 2048.00  | 2.058824 | \n",
       "| 16384    | 1024     | 2097152  | 4        |  96      |  50.00   | 16       | 32       | 2048.00  | 1.920000 | \n",
       "\n",
       "\n"
      ],
      "text/plain": [
       "   BlockSize BufferCount MaxTransferSize FileCount Duration DatabaseSize\n",
       "1  16384       30         131072         4         211       89.24      \n",
       "2  16384        7        1048576         4         125       57.89      \n",
       "3  16384       15         524288         4         303      136.00      \n",
       "4  16384        7        4194304         4         134       50.00      \n",
       "5  16384       30        1048576         4         298      136.00      \n",
       "6  16384       30        2097152         4         120       50.00      \n",
       "7  16384      128        1048576         4          55       31.73      \n",
       "8  16384      256         524288         4          57       31.73      \n",
       "9  16384     1024         262144         4          51       31.73      \n",
       "10 16384      512        4194304         4         280      136.00      \n",
       "11 16384     1024        2097152         4          96       50.00      \n",
       "   BlockSizeKB MaxTransferSize64KB MemoryUsageMB SecPerGB\n",
       "1  16           2                     3.75       2.364411\n",
       "2  16          16                     7.00       2.159268\n",
       "3  16           8                     7.50       2.227941\n",
       "4  16          64                    28.00       2.680000\n",
       "5  16          16                    30.00       2.191176\n",
       "6  16          32                    60.00       2.400000\n",
       "7  16          16                   128.00       1.733375\n",
       "8  16           8                   128.00       1.796407\n",
       "9  16           4                   256.00       1.607312\n",
       "10 16          64                  2048.00       2.058824\n",
       "11 16          32                  2048.00       1.920000"
      ]
     },
     "metadata": {},
     "output_type": "display_data"
    }
   ],
   "source": [
    "backupstats %>% filter(FileCount == 4 & BlockSizeKB == 16) %>% arrange(MemoryUsageMB)"
   ]
  },
  {
   "cell_type": "markdown",
   "metadata": {},
   "source": [
    "We can also see that as database size goes up a bit, seconds per GB increases as well, though database size is obviously not the only determining factor."
   ]
  },
  {
   "cell_type": "code",
   "execution_count": 143,
   "metadata": {},
   "outputs": [
    {
     "data": {
      "text/html": [
       "<table>\n",
       "<thead><tr><th scope=col>BlockSize</th><th scope=col>BufferCount</th><th scope=col>MaxTransferSize</th><th scope=col>FileCount</th><th scope=col>Duration</th><th scope=col>DatabaseSize</th><th scope=col>BlockSizeKB</th><th scope=col>MaxTransferSize64KB</th><th scope=col>MemoryUsageMB</th><th scope=col>SecPerGB</th></tr></thead>\n",
       "<tbody>\n",
       "\t<tr><td>16384   </td><td>1024    </td><td> 262144 </td><td>4       </td><td> 51     </td><td> 31.73  </td><td>16      </td><td> 4      </td><td> 256.00 </td><td>1.607312</td></tr>\n",
       "\t<tr><td>16384   </td><td> 128    </td><td>1048576 </td><td>4       </td><td> 55     </td><td> 31.73  </td><td>16      </td><td>16      </td><td> 128.00 </td><td>1.733375</td></tr>\n",
       "\t<tr><td>16384   </td><td> 256    </td><td> 524288 </td><td>4       </td><td> 57     </td><td> 31.73  </td><td>16      </td><td> 8      </td><td> 128.00 </td><td>1.796407</td></tr>\n",
       "\t<tr><td>16384   </td><td>1024    </td><td>2097152 </td><td>4       </td><td> 96     </td><td> 50.00  </td><td>16      </td><td>32      </td><td>2048.00 </td><td>1.920000</td></tr>\n",
       "\t<tr><td>16384   </td><td>  30    </td><td>2097152 </td><td>4       </td><td>120     </td><td> 50.00  </td><td>16      </td><td>32      </td><td>  60.00 </td><td>2.400000</td></tr>\n",
       "\t<tr><td>16384   </td><td>   7    </td><td>4194304 </td><td>4       </td><td>134     </td><td> 50.00  </td><td>16      </td><td>64      </td><td>  28.00 </td><td>2.680000</td></tr>\n",
       "\t<tr><td>16384   </td><td>   7    </td><td>1048576 </td><td>4       </td><td>125     </td><td> 57.89  </td><td>16      </td><td>16      </td><td>   7.00 </td><td>2.159268</td></tr>\n",
       "\t<tr><td>16384   </td><td>  30    </td><td> 131072 </td><td>4       </td><td>211     </td><td> 89.24  </td><td>16      </td><td> 2      </td><td>   3.75 </td><td>2.364411</td></tr>\n",
       "\t<tr><td>16384   </td><td> 512    </td><td>4194304 </td><td>4       </td><td>280     </td><td>136.00  </td><td>16      </td><td>64      </td><td>2048.00 </td><td>2.058824</td></tr>\n",
       "\t<tr><td>16384   </td><td>  30    </td><td>1048576 </td><td>4       </td><td>298     </td><td>136.00  </td><td>16      </td><td>16      </td><td>  30.00 </td><td>2.191176</td></tr>\n",
       "\t<tr><td>16384   </td><td>  15    </td><td> 524288 </td><td>4       </td><td>303     </td><td>136.00  </td><td>16      </td><td> 8      </td><td>   7.50 </td><td>2.227941</td></tr>\n",
       "</tbody>\n",
       "</table>\n"
      ],
      "text/latex": [
       "\\begin{tabular}{r|llllllllll}\n",
       " BlockSize & BufferCount & MaxTransferSize & FileCount & Duration & DatabaseSize & BlockSizeKB & MaxTransferSize64KB & MemoryUsageMB & SecPerGB\\\\\n",
       "\\hline\n",
       "\t 16384    & 1024     &  262144  & 4        &  51      &  31.73   & 16       &  4       &  256.00  & 1.607312\\\\\n",
       "\t 16384    &  128     & 1048576  & 4        &  55      &  31.73   & 16       & 16       &  128.00  & 1.733375\\\\\n",
       "\t 16384    &  256     &  524288  & 4        &  57      &  31.73   & 16       &  8       &  128.00  & 1.796407\\\\\n",
       "\t 16384    & 1024     & 2097152  & 4        &  96      &  50.00   & 16       & 32       & 2048.00  & 1.920000\\\\\n",
       "\t 16384    &   30     & 2097152  & 4        & 120      &  50.00   & 16       & 32       &   60.00  & 2.400000\\\\\n",
       "\t 16384    &    7     & 4194304  & 4        & 134      &  50.00   & 16       & 64       &   28.00  & 2.680000\\\\\n",
       "\t 16384    &    7     & 1048576  & 4        & 125      &  57.89   & 16       & 16       &    7.00  & 2.159268\\\\\n",
       "\t 16384    &   30     &  131072  & 4        & 211      &  89.24   & 16       &  2       &    3.75  & 2.364411\\\\\n",
       "\t 16384    &  512     & 4194304  & 4        & 280      & 136.00   & 16       & 64       & 2048.00  & 2.058824\\\\\n",
       "\t 16384    &   30     & 1048576  & 4        & 298      & 136.00   & 16       & 16       &   30.00  & 2.191176\\\\\n",
       "\t 16384    &   15     &  524288  & 4        & 303      & 136.00   & 16       &  8       &    7.50  & 2.227941\\\\\n",
       "\\end{tabular}\n"
      ],
      "text/markdown": [
       "\n",
       "BlockSize | BufferCount | MaxTransferSize | FileCount | Duration | DatabaseSize | BlockSizeKB | MaxTransferSize64KB | MemoryUsageMB | SecPerGB | \n",
       "|---|---|---|---|---|---|---|---|---|---|---|\n",
       "| 16384    | 1024     |  262144  | 4        |  51      |  31.73   | 16       |  4       |  256.00  | 1.607312 | \n",
       "| 16384    |  128     | 1048576  | 4        |  55      |  31.73   | 16       | 16       |  128.00  | 1.733375 | \n",
       "| 16384    |  256     |  524288  | 4        |  57      |  31.73   | 16       |  8       |  128.00  | 1.796407 | \n",
       "| 16384    | 1024     | 2097152  | 4        |  96      |  50.00   | 16       | 32       | 2048.00  | 1.920000 | \n",
       "| 16384    |   30     | 2097152  | 4        | 120      |  50.00   | 16       | 32       |   60.00  | 2.400000 | \n",
       "| 16384    |    7     | 4194304  | 4        | 134      |  50.00   | 16       | 64       |   28.00  | 2.680000 | \n",
       "| 16384    |    7     | 1048576  | 4        | 125      |  57.89   | 16       | 16       |    7.00  | 2.159268 | \n",
       "| 16384    |   30     |  131072  | 4        | 211      |  89.24   | 16       |  2       |    3.75  | 2.364411 | \n",
       "| 16384    |  512     | 4194304  | 4        | 280      | 136.00   | 16       | 64       | 2048.00  | 2.058824 | \n",
       "| 16384    |   30     | 1048576  | 4        | 298      | 136.00   | 16       | 16       |   30.00  | 2.191176 | \n",
       "| 16384    |   15     |  524288  | 4        | 303      | 136.00   | 16       |  8       |    7.50  | 2.227941 | \n",
       "\n",
       "\n"
      ],
      "text/plain": [
       "   BlockSize BufferCount MaxTransferSize FileCount Duration DatabaseSize\n",
       "1  16384     1024         262144         4          51       31.73      \n",
       "2  16384      128        1048576         4          55       31.73      \n",
       "3  16384      256         524288         4          57       31.73      \n",
       "4  16384     1024        2097152         4          96       50.00      \n",
       "5  16384       30        2097152         4         120       50.00      \n",
       "6  16384        7        4194304         4         134       50.00      \n",
       "7  16384        7        1048576         4         125       57.89      \n",
       "8  16384       30         131072         4         211       89.24      \n",
       "9  16384      512        4194304         4         280      136.00      \n",
       "10 16384       30        1048576         4         298      136.00      \n",
       "11 16384       15         524288         4         303      136.00      \n",
       "   BlockSizeKB MaxTransferSize64KB MemoryUsageMB SecPerGB\n",
       "1  16           4                   256.00       1.607312\n",
       "2  16          16                   128.00       1.733375\n",
       "3  16           8                   128.00       1.796407\n",
       "4  16          32                  2048.00       1.920000\n",
       "5  16          32                    60.00       2.400000\n",
       "6  16          64                    28.00       2.680000\n",
       "7  16          16                     7.00       2.159268\n",
       "8  16           2                     3.75       2.364411\n",
       "9  16          64                  2048.00       2.058824\n",
       "10 16          16                    30.00       2.191176\n",
       "11 16           8                     7.50       2.227941"
      ]
     },
     "metadata": {},
     "output_type": "display_data"
    }
   ],
   "source": [
    "backupstats %>% filter(FileCount == 4 & BlockSizeKB == 16) %>% arrange(DatabaseSize)"
   ]
  },
  {
   "cell_type": "markdown",
   "metadata": {},
   "source": [
    "Let's move on to look at file counts.  I'm going to try 1-15 files even though we only tested 1, 2, 4, 6, 8, 10, and 12 files."
   ]
  },
  {
   "cell_type": "code",
   "execution_count": 144,
   "metadata": {},
   "outputs": [
    {
     "data": {
      "text/html": [
       "<table>\n",
       "<thead><tr><th scope=col>BlockSizeKB</th><th scope=col>MemoryUsageMB</th><th scope=col>FileCount</th><th scope=col>DatabaseSize</th><th scope=col>prediction</th><th scope=col>seconds</th></tr></thead>\n",
       "<tbody>\n",
       "\t<tr><td>16      </td><td>1024    </td><td> 1      </td><td>57.89   </td><td>2.069955</td><td>119.8297</td></tr>\n",
       "\t<tr><td>16      </td><td>1024    </td><td> 2      </td><td>57.89   </td><td>2.028695</td><td>117.4412</td></tr>\n",
       "\t<tr><td>16      </td><td>1024    </td><td> 3      </td><td>57.89   </td><td>2.028371</td><td>117.4224</td></tr>\n",
       "\t<tr><td>16      </td><td>1024    </td><td> 4      </td><td>57.89   </td><td>2.010996</td><td>116.4166</td></tr>\n",
       "\t<tr><td>16      </td><td>1024    </td><td> 5      </td><td>57.89   </td><td>2.010716</td><td>116.4004</td></tr>\n",
       "\t<tr><td>16      </td><td>1024    </td><td> 6      </td><td>57.89   </td><td>2.003506</td><td>115.9830</td></tr>\n",
       "\t<tr><td>16      </td><td>1024    </td><td> 7      </td><td>57.89   </td><td>2.003371</td><td>115.9752</td></tr>\n",
       "\t<tr><td>16      </td><td>1024    </td><td> 8      </td><td>57.89   </td><td>1.989981</td><td>115.2000</td></tr>\n",
       "\t<tr><td>16      </td><td>1024    </td><td> 9      </td><td>57.89   </td><td>1.990623</td><td>115.2372</td></tr>\n",
       "\t<tr><td>16      </td><td>1024    </td><td>10      </td><td>57.89   </td><td>1.966556</td><td>113.8439</td></tr>\n",
       "\t<tr><td>16      </td><td>1024    </td><td>11      </td><td>57.89   </td><td>1.966534</td><td>113.8427</td></tr>\n",
       "\t<tr><td>16      </td><td>1024    </td><td>12      </td><td>57.89   </td><td>1.958261</td><td>113.3637</td></tr>\n",
       "\t<tr><td>16      </td><td>1024    </td><td>13      </td><td>57.89   </td><td>1.958261</td><td>113.3637</td></tr>\n",
       "\t<tr><td>16      </td><td>1024    </td><td>14      </td><td>57.89   </td><td>1.958261</td><td>113.3637</td></tr>\n",
       "\t<tr><td>16      </td><td>1024    </td><td>15      </td><td>57.89   </td><td>1.958261</td><td>113.3637</td></tr>\n",
       "</tbody>\n",
       "</table>\n"
      ],
      "text/latex": [
       "\\begin{tabular}{r|llllll}\n",
       " BlockSizeKB & MemoryUsageMB & FileCount & DatabaseSize & prediction & seconds\\\\\n",
       "\\hline\n",
       "\t 16       & 1024     &  1       & 57.89    & 2.069955 & 119.8297\\\\\n",
       "\t 16       & 1024     &  2       & 57.89    & 2.028695 & 117.4412\\\\\n",
       "\t 16       & 1024     &  3       & 57.89    & 2.028371 & 117.4224\\\\\n",
       "\t 16       & 1024     &  4       & 57.89    & 2.010996 & 116.4166\\\\\n",
       "\t 16       & 1024     &  5       & 57.89    & 2.010716 & 116.4004\\\\\n",
       "\t 16       & 1024     &  6       & 57.89    & 2.003506 & 115.9830\\\\\n",
       "\t 16       & 1024     &  7       & 57.89    & 2.003371 & 115.9752\\\\\n",
       "\t 16       & 1024     &  8       & 57.89    & 1.989981 & 115.2000\\\\\n",
       "\t 16       & 1024     &  9       & 57.89    & 1.990623 & 115.2372\\\\\n",
       "\t 16       & 1024     & 10       & 57.89    & 1.966556 & 113.8439\\\\\n",
       "\t 16       & 1024     & 11       & 57.89    & 1.966534 & 113.8427\\\\\n",
       "\t 16       & 1024     & 12       & 57.89    & 1.958261 & 113.3637\\\\\n",
       "\t 16       & 1024     & 13       & 57.89    & 1.958261 & 113.3637\\\\\n",
       "\t 16       & 1024     & 14       & 57.89    & 1.958261 & 113.3637\\\\\n",
       "\t 16       & 1024     & 15       & 57.89    & 1.958261 & 113.3637\\\\\n",
       "\\end{tabular}\n"
      ],
      "text/markdown": [
       "\n",
       "BlockSizeKB | MemoryUsageMB | FileCount | DatabaseSize | prediction | seconds | \n",
       "|---|---|---|---|---|---|---|---|---|---|---|---|---|---|---|\n",
       "| 16       | 1024     |  1       | 57.89    | 2.069955 | 119.8297 | \n",
       "| 16       | 1024     |  2       | 57.89    | 2.028695 | 117.4412 | \n",
       "| 16       | 1024     |  3       | 57.89    | 2.028371 | 117.4224 | \n",
       "| 16       | 1024     |  4       | 57.89    | 2.010996 | 116.4166 | \n",
       "| 16       | 1024     |  5       | 57.89    | 2.010716 | 116.4004 | \n",
       "| 16       | 1024     |  6       | 57.89    | 2.003506 | 115.9830 | \n",
       "| 16       | 1024     |  7       | 57.89    | 2.003371 | 115.9752 | \n",
       "| 16       | 1024     |  8       | 57.89    | 1.989981 | 115.2000 | \n",
       "| 16       | 1024     |  9       | 57.89    | 1.990623 | 115.2372 | \n",
       "| 16       | 1024     | 10       | 57.89    | 1.966556 | 113.8439 | \n",
       "| 16       | 1024     | 11       | 57.89    | 1.966534 | 113.8427 | \n",
       "| 16       | 1024     | 12       | 57.89    | 1.958261 | 113.3637 | \n",
       "| 16       | 1024     | 13       | 57.89    | 1.958261 | 113.3637 | \n",
       "| 16       | 1024     | 14       | 57.89    | 1.958261 | 113.3637 | \n",
       "| 16       | 1024     | 15       | 57.89    | 1.958261 | 113.3637 | \n",
       "\n",
       "\n"
      ],
      "text/plain": [
       "   BlockSizeKB MemoryUsageMB FileCount DatabaseSize prediction seconds \n",
       "1  16          1024           1        57.89        2.069955   119.8297\n",
       "2  16          1024           2        57.89        2.028695   117.4412\n",
       "3  16          1024           3        57.89        2.028371   117.4224\n",
       "4  16          1024           4        57.89        2.010996   116.4166\n",
       "5  16          1024           5        57.89        2.010716   116.4004\n",
       "6  16          1024           6        57.89        2.003506   115.9830\n",
       "7  16          1024           7        57.89        2.003371   115.9752\n",
       "8  16          1024           8        57.89        1.989981   115.2000\n",
       "9  16          1024           9        57.89        1.990623   115.2372\n",
       "10 16          1024          10        57.89        1.966556   113.8439\n",
       "11 16          1024          11        57.89        1.966534   113.8427\n",
       "12 16          1024          12        57.89        1.958261   113.3637\n",
       "13 16          1024          13        57.89        1.958261   113.3637\n",
       "14 16          1024          14        57.89        1.958261   113.3637\n",
       "15 16          1024          15        57.89        1.958261   113.3637"
      ]
     },
     "metadata": {},
     "output_type": "display_data"
    }
   ],
   "source": [
    "file_test <- data.frame(16, 1024, 1:15, 57.89)\n",
    "names(file_test) <- c(\"BlockSizeKB\", \"MemoryUsageMB\", \"FileCount\", \"DatabaseSize\")\n",
    "file_test$prediction <- predict(model3, file_test)\n",
    "file_test$seconds <- file_test$DatabaseSize * file_test$prediction\n",
    "file_test"
   ]
  },
  {
   "cell_type": "markdown",
   "metadata": {},
   "source": [
    "Notice that we have unique values through 12.  The random forest algorithm does **not** extrapolate beyond the test range, meaning that anything above 12 files will be treated as 12 files.\n",
    "\n",
    "We didn't have any exact matches on block size, but that didn't look to be very important.  Looking at our predictions, the 4-file count was a little slow compared to reality.  We had some variance in 8-file counts, and our prediction was pretty good.  Finally, our 10-file prediction was also fine.  That's a decent sign, though we should temper our expectations because we trained against this data."
   ]
  },
  {
   "cell_type": "code",
   "execution_count": 145,
   "metadata": {},
   "outputs": [
    {
     "data": {
      "text/html": [
       "<table>\n",
       "<thead><tr><th scope=col>BlockSize</th><th scope=col>BufferCount</th><th scope=col>MaxTransferSize</th><th scope=col>FileCount</th><th scope=col>Duration</th><th scope=col>DatabaseSize</th><th scope=col>BlockSizeKB</th><th scope=col>MaxTransferSize64KB</th><th scope=col>MemoryUsageMB</th><th scope=col>SecPerGB</th></tr></thead>\n",
       "<tbody>\n",
       "\t<tr><td>65536   </td><td> 512    </td><td>2097152 </td><td> 4      </td><td>114     </td><td>57.89   </td><td>64.0    </td><td>32      </td><td>1024    </td><td>1.969252</td></tr>\n",
       "\t<tr><td>  512   </td><td> 256    </td><td>4194304 </td><td> 8      </td><td>119     </td><td>57.89   </td><td> 0.5    </td><td>64      </td><td>1024    </td><td>2.055623</td></tr>\n",
       "\t<tr><td> 2048   </td><td>1024    </td><td>1048576 </td><td> 8      </td><td>114     </td><td>57.89   </td><td> 2.0    </td><td>16      </td><td>1024    </td><td>1.969252</td></tr>\n",
       "\t<tr><td> 2048   </td><td> 256    </td><td>4194304 </td><td>10      </td><td>115     </td><td>57.89   </td><td> 2.0    </td><td>64      </td><td>1024    </td><td>1.986526</td></tr>\n",
       "</tbody>\n",
       "</table>\n"
      ],
      "text/latex": [
       "\\begin{tabular}{r|llllllllll}\n",
       " BlockSize & BufferCount & MaxTransferSize & FileCount & Duration & DatabaseSize & BlockSizeKB & MaxTransferSize64KB & MemoryUsageMB & SecPerGB\\\\\n",
       "\\hline\n",
       "\t 65536    &  512     & 2097152  &  4       & 114      & 57.89    & 64.0     & 32       & 1024     & 1.969252\\\\\n",
       "\t   512    &  256     & 4194304  &  8       & 119      & 57.89    &  0.5     & 64       & 1024     & 2.055623\\\\\n",
       "\t  2048    & 1024     & 1048576  &  8       & 114      & 57.89    &  2.0     & 16       & 1024     & 1.969252\\\\\n",
       "\t  2048    &  256     & 4194304  & 10       & 115      & 57.89    &  2.0     & 64       & 1024     & 1.986526\\\\\n",
       "\\end{tabular}\n"
      ],
      "text/markdown": [
       "\n",
       "BlockSize | BufferCount | MaxTransferSize | FileCount | Duration | DatabaseSize | BlockSizeKB | MaxTransferSize64KB | MemoryUsageMB | SecPerGB | \n",
       "|---|---|---|---|\n",
       "| 65536    |  512     | 2097152  |  4       | 114      | 57.89    | 64.0     | 32       | 1024     | 1.969252 | \n",
       "|   512    |  256     | 4194304  |  8       | 119      | 57.89    |  0.5     | 64       | 1024     | 2.055623 | \n",
       "|  2048    | 1024     | 1048576  |  8       | 114      | 57.89    |  2.0     | 16       | 1024     | 1.969252 | \n",
       "|  2048    |  256     | 4194304  | 10       | 115      | 57.89    |  2.0     | 64       | 1024     | 1.986526 | \n",
       "\n",
       "\n"
      ],
      "text/plain": [
       "  BlockSize BufferCount MaxTransferSize FileCount Duration DatabaseSize\n",
       "1 65536      512        2097152          4        114      57.89       \n",
       "2   512      256        4194304          8        119      57.89       \n",
       "3  2048     1024        1048576          8        114      57.89       \n",
       "4  2048      256        4194304         10        115      57.89       \n",
       "  BlockSizeKB MaxTransferSize64KB MemoryUsageMB SecPerGB\n",
       "1 64.0        32                  1024          1.969252\n",
       "2  0.5        64                  1024          2.055623\n",
       "3  2.0        16                  1024          1.969252\n",
       "4  2.0        64                  1024          1.986526"
      ]
     },
     "metadata": {},
     "output_type": "display_data"
    }
   ],
   "source": [
    "backupstats %>% filter(MemoryUsageMB == 1024 & DatabaseSize == 57.89) %>% arrange(FileCount)"
   ]
  },
  {
   "cell_type": "markdown",
   "metadata": {},
   "source": [
    "Finally, let's look at database sizes."
   ]
  },
  {
   "cell_type": "code",
   "execution_count": 146,
   "metadata": {},
   "outputs": [
    {
     "data": {
      "text/html": [
       "<table>\n",
       "<thead><tr><th scope=col>BlockSizeKB</th><th scope=col>MemoryUsageMB</th><th scope=col>FileCount</th><th scope=col>DatabaseSize</th><th scope=col>prediction</th><th scope=col>seconds</th></tr></thead>\n",
       "<tbody>\n",
       "\t<tr><td>16      </td><td>1024    </td><td>4       </td><td>10      </td><td>1.773635</td><td>17.73635</td></tr>\n",
       "\t<tr><td>16      </td><td>1024    </td><td>4       </td><td>11      </td><td>1.773635</td><td>19.50999</td></tr>\n",
       "\t<tr><td>16      </td><td>1024    </td><td>4       </td><td>12      </td><td>1.773635</td><td>21.28362</td></tr>\n",
       "\t<tr><td>16      </td><td>1024    </td><td>4       </td><td>13      </td><td>1.773635</td><td>23.05726</td></tr>\n",
       "\t<tr><td>16      </td><td>1024    </td><td>4       </td><td>14      </td><td>1.773635</td><td>24.83090</td></tr>\n",
       "\t<tr><td>16      </td><td>1024    </td><td>4       </td><td>15      </td><td>1.773635</td><td>26.60453</td></tr>\n",
       "\t<tr><td>16      </td><td>1024    </td><td>4       </td><td>16      </td><td>1.773635</td><td>28.37817</td></tr>\n",
       "\t<tr><td>16      </td><td>1024    </td><td>4       </td><td>17      </td><td>1.773635</td><td>30.15180</td></tr>\n",
       "\t<tr><td>16      </td><td>1024    </td><td>4       </td><td>18      </td><td>1.773635</td><td>31.92544</td></tr>\n",
       "\t<tr><td>16      </td><td>1024    </td><td>4       </td><td>19      </td><td>1.773635</td><td>33.69907</td></tr>\n",
       "\t<tr><td>16      </td><td>1024    </td><td>4       </td><td>20      </td><td>1.773635</td><td>35.47271</td></tr>\n",
       "\t<tr><td>16      </td><td>1024    </td><td>4       </td><td>21      </td><td>1.761780</td><td>36.99737</td></tr>\n",
       "\t<tr><td>16      </td><td>1024    </td><td>4       </td><td>22      </td><td>1.761780</td><td>38.75915</td></tr>\n",
       "\t<tr><td>16      </td><td>1024    </td><td>4       </td><td>23      </td><td>1.761780</td><td>40.52093</td></tr>\n",
       "\t<tr><td>16      </td><td>1024    </td><td>4       </td><td>24      </td><td>1.761780</td><td>42.28271</td></tr>\n",
       "\t<tr><td>16      </td><td>1024    </td><td>4       </td><td>25      </td><td>1.761780</td><td>44.04449</td></tr>\n",
       "\t<tr><td>16      </td><td>1024    </td><td>4       </td><td>26      </td><td>1.761780</td><td>45.80627</td></tr>\n",
       "\t<tr><td>16      </td><td>1024    </td><td>4       </td><td>27      </td><td>1.761780</td><td>47.56805</td></tr>\n",
       "\t<tr><td>16      </td><td>1024    </td><td>4       </td><td>28      </td><td>1.761780</td><td>49.32983</td></tr>\n",
       "\t<tr><td>16      </td><td>1024    </td><td>4       </td><td>29      </td><td>1.761780</td><td>51.09161</td></tr>\n",
       "\t<tr><td>16      </td><td>1024    </td><td>4       </td><td>30      </td><td>1.761780</td><td>52.85339</td></tr>\n",
       "\t<tr><td>16      </td><td>1024    </td><td>4       </td><td>31      </td><td>1.762568</td><td>54.63961</td></tr>\n",
       "\t<tr><td>16      </td><td>1024    </td><td>4       </td><td>32      </td><td>1.762568</td><td>56.40218</td></tr>\n",
       "\t<tr><td>16      </td><td>1024    </td><td>4       </td><td>33      </td><td>1.762568</td><td>58.16474</td></tr>\n",
       "\t<tr><td>16      </td><td>1024    </td><td>4       </td><td>34      </td><td>1.762796</td><td>59.93505</td></tr>\n",
       "\t<tr><td>16      </td><td>1024    </td><td>4       </td><td>35      </td><td>1.762796</td><td>61.69785</td></tr>\n",
       "\t<tr><td>16      </td><td>1024    </td><td>4       </td><td>36      </td><td>1.762796</td><td>63.46064</td></tr>\n",
       "\t<tr><td>16      </td><td>1024    </td><td>4       </td><td>37      </td><td>1.762796</td><td>65.22344</td></tr>\n",
       "\t<tr><td>16      </td><td>1024    </td><td>4       </td><td>38      </td><td>1.762796</td><td>66.98623</td></tr>\n",
       "\t<tr><td>16      </td><td>1024    </td><td>4       </td><td>39      </td><td>1.762796</td><td>68.74903</td></tr>\n",
       "\t<tr><td>...</td><td>...</td><td>...</td><td>...</td><td>...</td><td>...</td></tr>\n",
       "\t<tr><td>16      </td><td>1024    </td><td>4       </td><td>171     </td><td>2.058572</td><td>352.0159</td></tr>\n",
       "\t<tr><td>16      </td><td>1024    </td><td>4       </td><td>172     </td><td>2.058572</td><td>354.0745</td></tr>\n",
       "\t<tr><td>16      </td><td>1024    </td><td>4       </td><td>173     </td><td>2.058572</td><td>356.1330</td></tr>\n",
       "\t<tr><td>16      </td><td>1024    </td><td>4       </td><td>174     </td><td>2.058572</td><td>358.1916</td></tr>\n",
       "\t<tr><td>16      </td><td>1024    </td><td>4       </td><td>175     </td><td>2.058572</td><td>360.2502</td></tr>\n",
       "\t<tr><td>16      </td><td>1024    </td><td>4       </td><td>176     </td><td>2.058572</td><td>362.3088</td></tr>\n",
       "\t<tr><td>16      </td><td>1024    </td><td>4       </td><td>177     </td><td>2.058572</td><td>364.3673</td></tr>\n",
       "\t<tr><td>16      </td><td>1024    </td><td>4       </td><td>178     </td><td>2.058572</td><td>366.4259</td></tr>\n",
       "\t<tr><td>16      </td><td>1024    </td><td>4       </td><td>179     </td><td>2.058572</td><td>368.4845</td></tr>\n",
       "\t<tr><td>16      </td><td>1024    </td><td>4       </td><td>180     </td><td>2.058572</td><td>370.5430</td></tr>\n",
       "\t<tr><td>16      </td><td>1024    </td><td>4       </td><td>181     </td><td>2.058572</td><td>372.6016</td></tr>\n",
       "\t<tr><td>16      </td><td>1024    </td><td>4       </td><td>182     </td><td>2.058572</td><td>374.6602</td></tr>\n",
       "\t<tr><td>16      </td><td>1024    </td><td>4       </td><td>183     </td><td>2.058572</td><td>376.7188</td></tr>\n",
       "\t<tr><td>16      </td><td>1024    </td><td>4       </td><td>184     </td><td>2.058572</td><td>378.7773</td></tr>\n",
       "\t<tr><td>16      </td><td>1024    </td><td>4       </td><td>185     </td><td>2.058572</td><td>380.8359</td></tr>\n",
       "\t<tr><td>16      </td><td>1024    </td><td>4       </td><td>186     </td><td>2.058572</td><td>382.8945</td></tr>\n",
       "\t<tr><td>16      </td><td>1024    </td><td>4       </td><td>187     </td><td>2.058572</td><td>384.9531</td></tr>\n",
       "\t<tr><td>16      </td><td>1024    </td><td>4       </td><td>188     </td><td>2.058572</td><td>387.0116</td></tr>\n",
       "\t<tr><td>16      </td><td>1024    </td><td>4       </td><td>189     </td><td>2.058572</td><td>389.0702</td></tr>\n",
       "\t<tr><td>16      </td><td>1024    </td><td>4       </td><td>190     </td><td>2.058572</td><td>391.1288</td></tr>\n",
       "\t<tr><td>16      </td><td>1024    </td><td>4       </td><td>191     </td><td>2.058572</td><td>393.1873</td></tr>\n",
       "\t<tr><td>16      </td><td>1024    </td><td>4       </td><td>192     </td><td>2.058572</td><td>395.2459</td></tr>\n",
       "\t<tr><td>16      </td><td>1024    </td><td>4       </td><td>193     </td><td>2.058572</td><td>397.3045</td></tr>\n",
       "\t<tr><td>16      </td><td>1024    </td><td>4       </td><td>194     </td><td>2.058572</td><td>399.3631</td></tr>\n",
       "\t<tr><td>16      </td><td>1024    </td><td>4       </td><td>195     </td><td>2.058572</td><td>401.4216</td></tr>\n",
       "\t<tr><td>16      </td><td>1024    </td><td>4       </td><td>196     </td><td>2.058572</td><td>403.4802</td></tr>\n",
       "\t<tr><td>16      </td><td>1024    </td><td>4       </td><td>197     </td><td>2.058572</td><td>405.5388</td></tr>\n",
       "\t<tr><td>16      </td><td>1024    </td><td>4       </td><td>198     </td><td>2.058572</td><td>407.5974</td></tr>\n",
       "\t<tr><td>16      </td><td>1024    </td><td>4       </td><td>199     </td><td>2.058572</td><td>409.6559</td></tr>\n",
       "\t<tr><td>16      </td><td>1024    </td><td>4       </td><td>200     </td><td>2.058572</td><td>411.7145</td></tr>\n",
       "</tbody>\n",
       "</table>\n"
      ],
      "text/latex": [
       "\\begin{tabular}{r|llllll}\n",
       " BlockSizeKB & MemoryUsageMB & FileCount & DatabaseSize & prediction & seconds\\\\\n",
       "\\hline\n",
       "\t 16       & 1024     & 4        & 10       & 1.773635 & 17.73635\\\\\n",
       "\t 16       & 1024     & 4        & 11       & 1.773635 & 19.50999\\\\\n",
       "\t 16       & 1024     & 4        & 12       & 1.773635 & 21.28362\\\\\n",
       "\t 16       & 1024     & 4        & 13       & 1.773635 & 23.05726\\\\\n",
       "\t 16       & 1024     & 4        & 14       & 1.773635 & 24.83090\\\\\n",
       "\t 16       & 1024     & 4        & 15       & 1.773635 & 26.60453\\\\\n",
       "\t 16       & 1024     & 4        & 16       & 1.773635 & 28.37817\\\\\n",
       "\t 16       & 1024     & 4        & 17       & 1.773635 & 30.15180\\\\\n",
       "\t 16       & 1024     & 4        & 18       & 1.773635 & 31.92544\\\\\n",
       "\t 16       & 1024     & 4        & 19       & 1.773635 & 33.69907\\\\\n",
       "\t 16       & 1024     & 4        & 20       & 1.773635 & 35.47271\\\\\n",
       "\t 16       & 1024     & 4        & 21       & 1.761780 & 36.99737\\\\\n",
       "\t 16       & 1024     & 4        & 22       & 1.761780 & 38.75915\\\\\n",
       "\t 16       & 1024     & 4        & 23       & 1.761780 & 40.52093\\\\\n",
       "\t 16       & 1024     & 4        & 24       & 1.761780 & 42.28271\\\\\n",
       "\t 16       & 1024     & 4        & 25       & 1.761780 & 44.04449\\\\\n",
       "\t 16       & 1024     & 4        & 26       & 1.761780 & 45.80627\\\\\n",
       "\t 16       & 1024     & 4        & 27       & 1.761780 & 47.56805\\\\\n",
       "\t 16       & 1024     & 4        & 28       & 1.761780 & 49.32983\\\\\n",
       "\t 16       & 1024     & 4        & 29       & 1.761780 & 51.09161\\\\\n",
       "\t 16       & 1024     & 4        & 30       & 1.761780 & 52.85339\\\\\n",
       "\t 16       & 1024     & 4        & 31       & 1.762568 & 54.63961\\\\\n",
       "\t 16       & 1024     & 4        & 32       & 1.762568 & 56.40218\\\\\n",
       "\t 16       & 1024     & 4        & 33       & 1.762568 & 58.16474\\\\\n",
       "\t 16       & 1024     & 4        & 34       & 1.762796 & 59.93505\\\\\n",
       "\t 16       & 1024     & 4        & 35       & 1.762796 & 61.69785\\\\\n",
       "\t 16       & 1024     & 4        & 36       & 1.762796 & 63.46064\\\\\n",
       "\t 16       & 1024     & 4        & 37       & 1.762796 & 65.22344\\\\\n",
       "\t 16       & 1024     & 4        & 38       & 1.762796 & 66.98623\\\\\n",
       "\t 16       & 1024     & 4        & 39       & 1.762796 & 68.74903\\\\\n",
       "\t ... & ... & ... & ... & ... & ...\\\\\n",
       "\t 16       & 1024     & 4        & 171      & 2.058572 & 352.0159\\\\\n",
       "\t 16       & 1024     & 4        & 172      & 2.058572 & 354.0745\\\\\n",
       "\t 16       & 1024     & 4        & 173      & 2.058572 & 356.1330\\\\\n",
       "\t 16       & 1024     & 4        & 174      & 2.058572 & 358.1916\\\\\n",
       "\t 16       & 1024     & 4        & 175      & 2.058572 & 360.2502\\\\\n",
       "\t 16       & 1024     & 4        & 176      & 2.058572 & 362.3088\\\\\n",
       "\t 16       & 1024     & 4        & 177      & 2.058572 & 364.3673\\\\\n",
       "\t 16       & 1024     & 4        & 178      & 2.058572 & 366.4259\\\\\n",
       "\t 16       & 1024     & 4        & 179      & 2.058572 & 368.4845\\\\\n",
       "\t 16       & 1024     & 4        & 180      & 2.058572 & 370.5430\\\\\n",
       "\t 16       & 1024     & 4        & 181      & 2.058572 & 372.6016\\\\\n",
       "\t 16       & 1024     & 4        & 182      & 2.058572 & 374.6602\\\\\n",
       "\t 16       & 1024     & 4        & 183      & 2.058572 & 376.7188\\\\\n",
       "\t 16       & 1024     & 4        & 184      & 2.058572 & 378.7773\\\\\n",
       "\t 16       & 1024     & 4        & 185      & 2.058572 & 380.8359\\\\\n",
       "\t 16       & 1024     & 4        & 186      & 2.058572 & 382.8945\\\\\n",
       "\t 16       & 1024     & 4        & 187      & 2.058572 & 384.9531\\\\\n",
       "\t 16       & 1024     & 4        & 188      & 2.058572 & 387.0116\\\\\n",
       "\t 16       & 1024     & 4        & 189      & 2.058572 & 389.0702\\\\\n",
       "\t 16       & 1024     & 4        & 190      & 2.058572 & 391.1288\\\\\n",
       "\t 16       & 1024     & 4        & 191      & 2.058572 & 393.1873\\\\\n",
       "\t 16       & 1024     & 4        & 192      & 2.058572 & 395.2459\\\\\n",
       "\t 16       & 1024     & 4        & 193      & 2.058572 & 397.3045\\\\\n",
       "\t 16       & 1024     & 4        & 194      & 2.058572 & 399.3631\\\\\n",
       "\t 16       & 1024     & 4        & 195      & 2.058572 & 401.4216\\\\\n",
       "\t 16       & 1024     & 4        & 196      & 2.058572 & 403.4802\\\\\n",
       "\t 16       & 1024     & 4        & 197      & 2.058572 & 405.5388\\\\\n",
       "\t 16       & 1024     & 4        & 198      & 2.058572 & 407.5974\\\\\n",
       "\t 16       & 1024     & 4        & 199      & 2.058572 & 409.6559\\\\\n",
       "\t 16       & 1024     & 4        & 200      & 2.058572 & 411.7145\\\\\n",
       "\\end{tabular}\n"
      ],
      "text/markdown": [
       "\n",
       "BlockSizeKB | MemoryUsageMB | FileCount | DatabaseSize | prediction | seconds | \n",
       "|---|---|---|---|---|---|---|---|---|---|---|---|---|---|---|---|---|---|---|---|---|---|---|---|---|---|---|---|---|---|---|---|---|---|---|---|---|---|---|---|---|---|---|---|---|---|---|---|---|---|---|---|---|---|---|---|---|---|---|---|---|\n",
       "| 16       | 1024     | 4        | 10       | 1.773635 | 17.73635 | \n",
       "| 16       | 1024     | 4        | 11       | 1.773635 | 19.50999 | \n",
       "| 16       | 1024     | 4        | 12       | 1.773635 | 21.28362 | \n",
       "| 16       | 1024     | 4        | 13       | 1.773635 | 23.05726 | \n",
       "| 16       | 1024     | 4        | 14       | 1.773635 | 24.83090 | \n",
       "| 16       | 1024     | 4        | 15       | 1.773635 | 26.60453 | \n",
       "| 16       | 1024     | 4        | 16       | 1.773635 | 28.37817 | \n",
       "| 16       | 1024     | 4        | 17       | 1.773635 | 30.15180 | \n",
       "| 16       | 1024     | 4        | 18       | 1.773635 | 31.92544 | \n",
       "| 16       | 1024     | 4        | 19       | 1.773635 | 33.69907 | \n",
       "| 16       | 1024     | 4        | 20       | 1.773635 | 35.47271 | \n",
       "| 16       | 1024     | 4        | 21       | 1.761780 | 36.99737 | \n",
       "| 16       | 1024     | 4        | 22       | 1.761780 | 38.75915 | \n",
       "| 16       | 1024     | 4        | 23       | 1.761780 | 40.52093 | \n",
       "| 16       | 1024     | 4        | 24       | 1.761780 | 42.28271 | \n",
       "| 16       | 1024     | 4        | 25       | 1.761780 | 44.04449 | \n",
       "| 16       | 1024     | 4        | 26       | 1.761780 | 45.80627 | \n",
       "| 16       | 1024     | 4        | 27       | 1.761780 | 47.56805 | \n",
       "| 16       | 1024     | 4        | 28       | 1.761780 | 49.32983 | \n",
       "| 16       | 1024     | 4        | 29       | 1.761780 | 51.09161 | \n",
       "| 16       | 1024     | 4        | 30       | 1.761780 | 52.85339 | \n",
       "| 16       | 1024     | 4        | 31       | 1.762568 | 54.63961 | \n",
       "| 16       | 1024     | 4        | 32       | 1.762568 | 56.40218 | \n",
       "| 16       | 1024     | 4        | 33       | 1.762568 | 58.16474 | \n",
       "| 16       | 1024     | 4        | 34       | 1.762796 | 59.93505 | \n",
       "| 16       | 1024     | 4        | 35       | 1.762796 | 61.69785 | \n",
       "| 16       | 1024     | 4        | 36       | 1.762796 | 63.46064 | \n",
       "| 16       | 1024     | 4        | 37       | 1.762796 | 65.22344 | \n",
       "| 16       | 1024     | 4        | 38       | 1.762796 | 66.98623 | \n",
       "| 16       | 1024     | 4        | 39       | 1.762796 | 68.74903 | \n",
       "| ... | ... | ... | ... | ... | ... | \n",
       "| 16       | 1024     | 4        | 171      | 2.058572 | 352.0159 | \n",
       "| 16       | 1024     | 4        | 172      | 2.058572 | 354.0745 | \n",
       "| 16       | 1024     | 4        | 173      | 2.058572 | 356.1330 | \n",
       "| 16       | 1024     | 4        | 174      | 2.058572 | 358.1916 | \n",
       "| 16       | 1024     | 4        | 175      | 2.058572 | 360.2502 | \n",
       "| 16       | 1024     | 4        | 176      | 2.058572 | 362.3088 | \n",
       "| 16       | 1024     | 4        | 177      | 2.058572 | 364.3673 | \n",
       "| 16       | 1024     | 4        | 178      | 2.058572 | 366.4259 | \n",
       "| 16       | 1024     | 4        | 179      | 2.058572 | 368.4845 | \n",
       "| 16       | 1024     | 4        | 180      | 2.058572 | 370.5430 | \n",
       "| 16       | 1024     | 4        | 181      | 2.058572 | 372.6016 | \n",
       "| 16       | 1024     | 4        | 182      | 2.058572 | 374.6602 | \n",
       "| 16       | 1024     | 4        | 183      | 2.058572 | 376.7188 | \n",
       "| 16       | 1024     | 4        | 184      | 2.058572 | 378.7773 | \n",
       "| 16       | 1024     | 4        | 185      | 2.058572 | 380.8359 | \n",
       "| 16       | 1024     | 4        | 186      | 2.058572 | 382.8945 | \n",
       "| 16       | 1024     | 4        | 187      | 2.058572 | 384.9531 | \n",
       "| 16       | 1024     | 4        | 188      | 2.058572 | 387.0116 | \n",
       "| 16       | 1024     | 4        | 189      | 2.058572 | 389.0702 | \n",
       "| 16       | 1024     | 4        | 190      | 2.058572 | 391.1288 | \n",
       "| 16       | 1024     | 4        | 191      | 2.058572 | 393.1873 | \n",
       "| 16       | 1024     | 4        | 192      | 2.058572 | 395.2459 | \n",
       "| 16       | 1024     | 4        | 193      | 2.058572 | 397.3045 | \n",
       "| 16       | 1024     | 4        | 194      | 2.058572 | 399.3631 | \n",
       "| 16       | 1024     | 4        | 195      | 2.058572 | 401.4216 | \n",
       "| 16       | 1024     | 4        | 196      | 2.058572 | 403.4802 | \n",
       "| 16       | 1024     | 4        | 197      | 2.058572 | 405.5388 | \n",
       "| 16       | 1024     | 4        | 198      | 2.058572 | 407.5974 | \n",
       "| 16       | 1024     | 4        | 199      | 2.058572 | 409.6559 | \n",
       "| 16       | 1024     | 4        | 200      | 2.058572 | 411.7145 | \n",
       "\n",
       "\n"
      ],
      "text/plain": [
       "    BlockSizeKB MemoryUsageMB FileCount DatabaseSize prediction seconds \n",
       "1   16          1024          4         10           1.773635   17.73635\n",
       "2   16          1024          4         11           1.773635   19.50999\n",
       "3   16          1024          4         12           1.773635   21.28362\n",
       "4   16          1024          4         13           1.773635   23.05726\n",
       "5   16          1024          4         14           1.773635   24.83090\n",
       "6   16          1024          4         15           1.773635   26.60453\n",
       "7   16          1024          4         16           1.773635   28.37817\n",
       "8   16          1024          4         17           1.773635   30.15180\n",
       "9   16          1024          4         18           1.773635   31.92544\n",
       "10  16          1024          4         19           1.773635   33.69907\n",
       "11  16          1024          4         20           1.773635   35.47271\n",
       "12  16          1024          4         21           1.761780   36.99737\n",
       "13  16          1024          4         22           1.761780   38.75915\n",
       "14  16          1024          4         23           1.761780   40.52093\n",
       "15  16          1024          4         24           1.761780   42.28271\n",
       "16  16          1024          4         25           1.761780   44.04449\n",
       "17  16          1024          4         26           1.761780   45.80627\n",
       "18  16          1024          4         27           1.761780   47.56805\n",
       "19  16          1024          4         28           1.761780   49.32983\n",
       "20  16          1024          4         29           1.761780   51.09161\n",
       "21  16          1024          4         30           1.761780   52.85339\n",
       "22  16          1024          4         31           1.762568   54.63961\n",
       "23  16          1024          4         32           1.762568   56.40218\n",
       "24  16          1024          4         33           1.762568   58.16474\n",
       "25  16          1024          4         34           1.762796   59.93505\n",
       "26  16          1024          4         35           1.762796   61.69785\n",
       "27  16          1024          4         36           1.762796   63.46064\n",
       "28  16          1024          4         37           1.762796   65.22344\n",
       "29  16          1024          4         38           1.762796   66.98623\n",
       "30  16          1024          4         39           1.762796   68.74903\n",
       "... ...         ...           ...       ...          ...        ...     \n",
       "162 16          1024          4         171          2.058572   352.0159\n",
       "163 16          1024          4         172          2.058572   354.0745\n",
       "164 16          1024          4         173          2.058572   356.1330\n",
       "165 16          1024          4         174          2.058572   358.1916\n",
       "166 16          1024          4         175          2.058572   360.2502\n",
       "167 16          1024          4         176          2.058572   362.3088\n",
       "168 16          1024          4         177          2.058572   364.3673\n",
       "169 16          1024          4         178          2.058572   366.4259\n",
       "170 16          1024          4         179          2.058572   368.4845\n",
       "171 16          1024          4         180          2.058572   370.5430\n",
       "172 16          1024          4         181          2.058572   372.6016\n",
       "173 16          1024          4         182          2.058572   374.6602\n",
       "174 16          1024          4         183          2.058572   376.7188\n",
       "175 16          1024          4         184          2.058572   378.7773\n",
       "176 16          1024          4         185          2.058572   380.8359\n",
       "177 16          1024          4         186          2.058572   382.8945\n",
       "178 16          1024          4         187          2.058572   384.9531\n",
       "179 16          1024          4         188          2.058572   387.0116\n",
       "180 16          1024          4         189          2.058572   389.0702\n",
       "181 16          1024          4         190          2.058572   391.1288\n",
       "182 16          1024          4         191          2.058572   393.1873\n",
       "183 16          1024          4         192          2.058572   395.2459\n",
       "184 16          1024          4         193          2.058572   397.3045\n",
       "185 16          1024          4         194          2.058572   399.3631\n",
       "186 16          1024          4         195          2.058572   401.4216\n",
       "187 16          1024          4         196          2.058572   403.4802\n",
       "188 16          1024          4         197          2.058572   405.5388\n",
       "189 16          1024          4         198          2.058572   407.5974\n",
       "190 16          1024          4         199          2.058572   409.6559\n",
       "191 16          1024          4         200          2.058572   411.7145"
      ]
     },
     "metadata": {},
     "output_type": "display_data"
    }
   ],
   "source": [
    "# Random forest does *not* do a regression here.\n",
    "size_test <- data.frame(16, 1024, 4, 10:200)\n",
    "names(size_test) <- c(\"BlockSizeKB\", \"MemoryUsageMB\", \"FileCount\", \"DatabaseSize\")\n",
    "size_test$prediction <- predict(model3, size_test)\n",
    "size_test$seconds <- size_test$DatabaseSize * size_test$prediction\n",
    "size_test"
   ]
  },
  {
   "cell_type": "markdown",
   "metadata": {},
   "source": [
    "The predictions look weird."
   ]
  },
  {
   "cell_type": "code",
   "execution_count": 147,
   "metadata": {},
   "outputs": [
    {
     "data": {
      "text/html": [
       "<table>\n",
       "<thead><tr><th scope=col>prediction</th><th scope=col>n</th></tr></thead>\n",
       "<tbody>\n",
       "\t<tr><td>1.761780</td><td>10      </td></tr>\n",
       "\t<tr><td>1.762568</td><td> 3      </td></tr>\n",
       "\t<tr><td>1.762796</td><td> 7      </td></tr>\n",
       "\t<tr><td>1.773635</td><td>11      </td></tr>\n",
       "\t<tr><td>2.010996</td><td>16      </td></tr>\n",
       "\t<tr><td>2.011334</td><td> 4      </td></tr>\n",
       "\t<tr><td>2.028559</td><td>20      </td></tr>\n",
       "\t<tr><td>2.029941</td><td> 3      </td></tr>\n",
       "\t<tr><td>2.032375</td><td>16      </td></tr>\n",
       "\t<tr><td>2.045953</td><td> 4      </td></tr>\n",
       "\t<tr><td>2.046938</td><td> 9      </td></tr>\n",
       "\t<tr><td>2.058572</td><td>88      </td></tr>\n",
       "</tbody>\n",
       "</table>\n"
      ],
      "text/latex": [
       "\\begin{tabular}{r|ll}\n",
       " prediction & n\\\\\n",
       "\\hline\n",
       "\t 1.761780 & 10      \\\\\n",
       "\t 1.762568 &  3      \\\\\n",
       "\t 1.762796 &  7      \\\\\n",
       "\t 1.773635 & 11      \\\\\n",
       "\t 2.010996 & 16      \\\\\n",
       "\t 2.011334 &  4      \\\\\n",
       "\t 2.028559 & 20      \\\\\n",
       "\t 2.029941 &  3      \\\\\n",
       "\t 2.032375 & 16      \\\\\n",
       "\t 2.045953 &  4      \\\\\n",
       "\t 2.046938 &  9      \\\\\n",
       "\t 2.058572 & 88      \\\\\n",
       "\\end{tabular}\n"
      ],
      "text/markdown": [
       "\n",
       "prediction | n | \n",
       "|---|---|---|---|---|---|---|---|---|---|---|---|\n",
       "| 1.761780 | 10       | \n",
       "| 1.762568 |  3       | \n",
       "| 1.762796 |  7       | \n",
       "| 1.773635 | 11       | \n",
       "| 2.010996 | 16       | \n",
       "| 2.011334 |  4       | \n",
       "| 2.028559 | 20       | \n",
       "| 2.029941 |  3       | \n",
       "| 2.032375 | 16       | \n",
       "| 2.045953 |  4       | \n",
       "| 2.046938 |  9       | \n",
       "| 2.058572 | 88       | \n",
       "\n",
       "\n"
      ],
      "text/plain": [
       "   prediction n \n",
       "1  1.761780   10\n",
       "2  1.762568    3\n",
       "3  1.762796    7\n",
       "4  1.773635   11\n",
       "5  2.010996   16\n",
       "6  2.011334    4\n",
       "7  2.028559   20\n",
       "8  2.029941    3\n",
       "9  2.032375   16\n",
       "10 2.045953    4\n",
       "11 2.046938    9\n",
       "12 2.058572   88"
      ]
     },
     "metadata": {},
     "output_type": "display_data"
    }
   ],
   "source": [
    "size_test %>% group_by(prediction) %>% summarize(n = n())"
   ]
  },
  {
   "cell_type": "markdown",
   "metadata": {},
   "source": [
    "It looks like we get only a few total predictions for seconds per GB, and let's look at where those are:"
   ]
  },
  {
   "cell_type": "code",
   "execution_count": 148,
   "metadata": {},
   "outputs": [
    {
     "data": {
      "text/html": [
       "<table>\n",
       "<thead><tr><th scope=col>prediction</th><th scope=col>min</th><th scope=col>max</th></tr></thead>\n",
       "<tbody>\n",
       "\t<tr><td>1.761780</td><td> 21     </td><td> 30     </td></tr>\n",
       "\t<tr><td>1.762568</td><td> 31     </td><td> 33     </td></tr>\n",
       "\t<tr><td>1.762796</td><td> 34     </td><td> 40     </td></tr>\n",
       "\t<tr><td>1.773635</td><td> 10     </td><td> 20     </td></tr>\n",
       "\t<tr><td>2.010996</td><td> 54     </td><td> 69     </td></tr>\n",
       "\t<tr><td>2.011334</td><td> 70     </td><td> 73     </td></tr>\n",
       "\t<tr><td>2.028559</td><td> 74     </td><td> 93     </td></tr>\n",
       "\t<tr><td>2.029941</td><td> 94     </td><td> 96     </td></tr>\n",
       "\t<tr><td>2.032375</td><td> 97     </td><td>112     </td></tr>\n",
       "\t<tr><td>2.045953</td><td> 41     </td><td> 44     </td></tr>\n",
       "\t<tr><td>2.046938</td><td> 45     </td><td> 53     </td></tr>\n",
       "\t<tr><td>2.058572</td><td>113     </td><td>200     </td></tr>\n",
       "</tbody>\n",
       "</table>\n"
      ],
      "text/latex": [
       "\\begin{tabular}{r|lll}\n",
       " prediction & min & max\\\\\n",
       "\\hline\n",
       "\t 1.761780 &  21      &  30     \\\\\n",
       "\t 1.762568 &  31      &  33     \\\\\n",
       "\t 1.762796 &  34      &  40     \\\\\n",
       "\t 1.773635 &  10      &  20     \\\\\n",
       "\t 2.010996 &  54      &  69     \\\\\n",
       "\t 2.011334 &  70      &  73     \\\\\n",
       "\t 2.028559 &  74      &  93     \\\\\n",
       "\t 2.029941 &  94      &  96     \\\\\n",
       "\t 2.032375 &  97      & 112     \\\\\n",
       "\t 2.045953 &  41      &  44     \\\\\n",
       "\t 2.046938 &  45      &  53     \\\\\n",
       "\t 2.058572 & 113      & 200     \\\\\n",
       "\\end{tabular}\n"
      ],
      "text/markdown": [
       "\n",
       "prediction | min | max | \n",
       "|---|---|---|---|---|---|---|---|---|---|---|---|\n",
       "| 1.761780 |  21      |  30      | \n",
       "| 1.762568 |  31      |  33      | \n",
       "| 1.762796 |  34      |  40      | \n",
       "| 1.773635 |  10      |  20      | \n",
       "| 2.010996 |  54      |  69      | \n",
       "| 2.011334 |  70      |  73      | \n",
       "| 2.028559 |  74      |  93      | \n",
       "| 2.029941 |  94      |  96      | \n",
       "| 2.032375 |  97      | 112      | \n",
       "| 2.045953 |  41      |  44      | \n",
       "| 2.046938 |  45      |  53      | \n",
       "| 2.058572 | 113      | 200      | \n",
       "\n",
       "\n"
      ],
      "text/plain": [
       "   prediction min max\n",
       "1  1.761780    21  30\n",
       "2  1.762568    31  33\n",
       "3  1.762796    34  40\n",
       "4  1.773635    10  20\n",
       "5  2.010996    54  69\n",
       "6  2.011334    70  73\n",
       "7  2.028559    74  93\n",
       "8  2.029941    94  96\n",
       "9  2.032375    97 112\n",
       "10 2.045953    41  44\n",
       "11 2.046938    45  53\n",
       "12 2.058572   113 200"
      ]
     },
     "metadata": {},
     "output_type": "display_data"
    }
   ],
   "source": [
    "size_test %>% group_by(prediction) %>% summarize(min = min(DatabaseSize), max = max(DatabaseSize))"
   ]
  },
  {
   "cell_type": "markdown",
   "metadata": {},
   "source": [
    "It looks like these are cutoffs somewhere around our database sizes, though not exactly:  there are only six files, but more than six ranges.  Given that the numbers are increasing, it indicates that our larger databases in this test were harder to back up than the smaller ones.  We might normally expect this number to remain constant (if there's no difference in processing capabilities) or maybe to go **down** (because we can amortize spinup and spindown costs over larger data sets), but going **up** is mildy weird."
   ]
  },
  {
   "cell_type": "markdown",
   "metadata": {},
   "source": [
    "## Contrast With A Linear Model"
   ]
  },
  {
   "cell_type": "code",
   "execution_count": 149,
   "metadata": {},
   "outputs": [
    {
     "data": {
      "text/plain": [
       "\n",
       "Call:\n",
       "lm(formula = SecPerGB ~ BlockSizeKB + MemoryUsageMB + FileCount + \n",
       "    DatabaseSize, data = backupstats)\n",
       "\n",
       "Residuals:\n",
       "     Min       1Q   Median       3Q      Max \n",
       "-0.51617 -0.15745 -0.04970  0.07968  2.60384 \n",
       "\n",
       "Coefficients:\n",
       "                Estimate Std. Error t value Pr(>|t|)    \n",
       "(Intercept)    2.193e+00  3.378e-02  64.923  < 2e-16 ***\n",
       "BlockSizeKB    2.555e-04  6.056e-04   0.422    0.673    \n",
       "MemoryUsageMB -1.614e-04  1.823e-05  -8.855  < 2e-16 ***\n",
       "FileCount     -1.933e-02  3.225e-03  -5.993 3.79e-09 ***\n",
       "DatabaseSize   1.414e-03  3.109e-04   4.548 6.70e-06 ***\n",
       "---\n",
       "Signif. codes:  0 '***' 0.001 '**' 0.01 '*' 0.05 '.' 0.1 ' ' 1\n",
       "\n",
       "Residual standard error: 0.2901 on 536 degrees of freedom\n",
       "Multiple R-squared:  0.1912,\tAdjusted R-squared:  0.1852 \n",
       "F-statistic: 31.68 on 4 and 536 DF,  p-value: < 2.2e-16\n"
      ]
     },
     "metadata": {},
     "output_type": "display_data"
    }
   ],
   "source": [
    "linear_model <- lm(data = backupstats, SecPerGB ~ BlockSizeKB + MemoryUsageMB + FileCount + DatabaseSize)\n",
    "summary(linear_model)"
   ]
  },
  {
   "cell_type": "markdown",
   "metadata": {},
   "source": [
    "This linear model has an adjusted R^2 of 0.1852, which is terrible.  The only thing this has going for it is that the signs appear correct:  as memory usage and file count go up, the number of seconds it takes to process a GB worth of data decreases.  We can try a second linear model which goes back to duration and see if that's any better."
   ]
  },
  {
   "cell_type": "code",
   "execution_count": 150,
   "metadata": {},
   "outputs": [
    {
     "data": {
      "text/plain": [
       "\n",
       "Call:\n",
       "lm(formula = Duration ~ BlockSizeKB + MemoryUsageMB + FileCount + \n",
       "    DatabaseSize, data = backupstats)\n",
       "\n",
       "Residuals:\n",
       "    Min      1Q  Median      3Q     Max \n",
       "-19.540  -7.797  -2.794   5.204  80.514 \n",
       "\n",
       "Coefficients:\n",
       "                Estimate Std. Error t value Pr(>|t|)    \n",
       "(Intercept)    7.4034305  1.4055160   5.267 2.01e-07 ***\n",
       "BlockSizeKB    0.0148892  0.0251982   0.591    0.555    \n",
       "MemoryUsageMB -0.0080964  0.0007586 -10.672  < 2e-16 ***\n",
       "FileCount     -0.9685435  0.1341842  -7.218 1.81e-12 ***\n",
       "DatabaseSize   2.1697292  0.0129374 167.710  < 2e-16 ***\n",
       "---\n",
       "Signif. codes:  0 '***' 0.001 '**' 0.01 '*' 0.05 '.' 0.1 ' ' 1\n",
       "\n",
       "Residual standard error: 12.07 on 536 degrees of freedom\n",
       "Multiple R-squared:  0.9815,\tAdjusted R-squared:  0.9813 \n",
       "F-statistic:  7091 on 4 and 536 DF,  p-value: < 2.2e-16\n"
      ]
     },
     "metadata": {},
     "output_type": "display_data"
    }
   ],
   "source": [
    "linear_model <- lm(data = backupstats, Duration ~ BlockSizeKB + MemoryUsageMB + FileCount + DatabaseSize)\n",
    "summary(linear_model)"
   ]
  },
  {
   "cell_type": "markdown",
   "metadata": {},
   "source": [
    "Now it's saying that duration is primarily a function of database size:  every GB of data takes approximately 2.16 seconds longer to process.  Memory usage and file count are still pointing in the right direction:  one MB of memory usage leads to 0.008 seconds **less** processing time and each file is responsible for approximately 1 less second.\n",
    "\n",
    "Let's try to predict some results with this model."
   ]
  },
  {
   "cell_type": "code",
   "execution_count": 155,
   "metadata": {},
   "outputs": [
    {
     "data": {
      "text/html": [
       "<dl class=dl-horizontal>\n",
       "\t<dt>1</dt>\n",
       "\t\t<dd>103.963203629244</dd>\n",
       "\t<dt>2</dt>\n",
       "\t\t<dd>121.321036887877</dd>\n",
       "\t<dt>3</dt>\n",
       "\t\t<dd>188.582640765077</dd>\n",
       "\t<dt>4</dt>\n",
       "\t\t<dd>290.559911159542</dd>\n",
       "</dl>\n"
      ],
      "text/latex": [
       "\\begin{description*}\n",
       "\\item[1] 103.963203629244\n",
       "\\item[2] 121.321036887877\n",
       "\\item[3] 188.582640765077\n",
       "\\item[4] 290.559911159542\n",
       "\\end{description*}\n"
      ],
      "text/markdown": [
       "1\n",
       ":   103.9632036292442\n",
       ":   121.3210368878773\n",
       ":   188.5826407650774\n",
       ":   290.559911159542\n",
       "\n"
      ],
      "text/plain": [
       "       1        2        3        4 \n",
       "103.9632 121.3210 188.5826 290.5599 "
      ]
     },
     "metadata": {},
     "output_type": "display_data"
    }
   ],
   "source": [
    "size_test %>% filter(DatabaseSize %in% c(50, 58, 89, 136)) %>% predict(linear_model, .)"
   ]
  },
  {
   "cell_type": "markdown",
   "metadata": {},
   "source": [
    "Here are our actual results."
   ]
  },
  {
   "cell_type": "code",
   "execution_count": 156,
   "metadata": {},
   "outputs": [
    {
     "data": {
      "text/html": [
       "<table>\n",
       "<thead><tr><th scope=col>BlockSize</th><th scope=col>BufferCount</th><th scope=col>MaxTransferSize</th><th scope=col>FileCount</th><th scope=col>Duration</th><th scope=col>DatabaseSize</th><th scope=col>BlockSizeKB</th><th scope=col>MaxTransferSize64KB</th><th scope=col>MemoryUsageMB</th><th scope=col>SecPerGB</th></tr></thead>\n",
       "<tbody>\n",
       "\t<tr><td> 8192   </td><td>512     </td><td>2097152 </td><td>4       </td><td> 97     </td><td> 50.00  </td><td> 8      </td><td>32      </td><td>1024    </td><td>1.940000</td></tr>\n",
       "\t<tr><td>65536   </td><td>512     </td><td>2097152 </td><td>4       </td><td>114     </td><td> 57.89  </td><td>64      </td><td>32      </td><td>1024    </td><td>1.969252</td></tr>\n",
       "\t<tr><td> 2048   </td><td>512     </td><td>2097152 </td><td>4       </td><td>178     </td><td> 89.24  </td><td> 2      </td><td>32      </td><td>1024    </td><td>1.994621</td></tr>\n",
       "\t<tr><td> 8192   </td><td>256     </td><td>4194304 </td><td>4       </td><td>283     </td><td>136.00  </td><td> 8      </td><td>64      </td><td>1024    </td><td>2.080882</td></tr>\n",
       "</tbody>\n",
       "</table>\n"
      ],
      "text/latex": [
       "\\begin{tabular}{r|llllllllll}\n",
       " BlockSize & BufferCount & MaxTransferSize & FileCount & Duration & DatabaseSize & BlockSizeKB & MaxTransferSize64KB & MemoryUsageMB & SecPerGB\\\\\n",
       "\\hline\n",
       "\t  8192    & 512      & 2097152  & 4        &  97      &  50.00   &  8       & 32       & 1024     & 1.940000\\\\\n",
       "\t 65536    & 512      & 2097152  & 4        & 114      &  57.89   & 64       & 32       & 1024     & 1.969252\\\\\n",
       "\t  2048    & 512      & 2097152  & 4        & 178      &  89.24   &  2       & 32       & 1024     & 1.994621\\\\\n",
       "\t  8192    & 256      & 4194304  & 4        & 283      & 136.00   &  8       & 64       & 1024     & 2.080882\\\\\n",
       "\\end{tabular}\n"
      ],
      "text/markdown": [
       "\n",
       "BlockSize | BufferCount | MaxTransferSize | FileCount | Duration | DatabaseSize | BlockSizeKB | MaxTransferSize64KB | MemoryUsageMB | SecPerGB | \n",
       "|---|---|---|---|\n",
       "|  8192    | 512      | 2097152  | 4        |  97      |  50.00   |  8       | 32       | 1024     | 1.940000 | \n",
       "| 65536    | 512      | 2097152  | 4        | 114      |  57.89   | 64       | 32       | 1024     | 1.969252 | \n",
       "|  2048    | 512      | 2097152  | 4        | 178      |  89.24   |  2       | 32       | 1024     | 1.994621 | \n",
       "|  8192    | 256      | 4194304  | 4        | 283      | 136.00   |  8       | 64       | 1024     | 2.080882 | \n",
       "\n",
       "\n"
      ],
      "text/plain": [
       "  BlockSize BufferCount MaxTransferSize FileCount Duration DatabaseSize\n",
       "1  8192     512         2097152         4          97       50.00      \n",
       "2 65536     512         2097152         4         114       57.89      \n",
       "3  2048     512         2097152         4         178       89.24      \n",
       "4  8192     256         4194304         4         283      136.00      \n",
       "  BlockSizeKB MaxTransferSize64KB MemoryUsageMB SecPerGB\n",
       "1  8          32                  1024          1.940000\n",
       "2 64          32                  1024          1.969252\n",
       "3  2          32                  1024          1.994621\n",
       "4  8          64                  1024          2.080882"
      ]
     },
     "metadata": {},
     "output_type": "display_data"
    }
   ],
   "source": [
    "filter(backupstats, MemoryUsageMB == 1024 & FileCount == 4) %>% arrange(DatabaseSize)"
   ]
  },
  {
   "cell_type": "markdown",
   "metadata": {},
   "source": [
    "There are four close-enough matches, and we tend to be about 10 seconds off.  This is an alright start and indicates that we might be able to treat this as a linear-ish problem."
   ]
  },
  {
   "cell_type": "markdown",
   "metadata": {},
   "source": [
    "## Proper Training and Testing of a Model\n",
    "\n",
    "So far, we have dumped all of the data into our algorithm and generated models.  This is okay for basic exploration, but it is liable to overfit without us knowing.  Instead, we are going to use the `caret` package to split out our data into separate training and test data sets."
   ]
  },
  {
   "cell_type": "code",
   "execution_count": 157,
   "metadata": {},
   "outputs": [
    {
     "data": {
      "text/html": [
       "381"
      ],
      "text/latex": [
       "381"
      ],
      "text/markdown": [
       "381"
      ],
      "text/plain": [
       "[1] 381"
      ]
     },
     "metadata": {},
     "output_type": "display_data"
    },
    {
     "data": {
      "text/html": [
       "160"
      ],
      "text/latex": [
       "160"
      ],
      "text/markdown": [
       "160"
      ],
      "text/plain": [
       "[1] 160"
      ]
     },
     "metadata": {},
     "output_type": "display_data"
    }
   ],
   "source": [
    "set.seed(20191119)\n",
    "randbackupstats <- backupstats[sample(nrow(backupstats)), ]\n",
    "randbackupstats$BlockSize <- NULL\n",
    "randbackupstats$BufferCount <- NULL\n",
    "randbackupstats$MaxTransferSize <- NULL\n",
    "randbackupstats$Duration <- NULL\n",
    "randbackupstats$GBperSec <- NULL\n",
    "trainIndex <- caret::createDataPartition(randbackupstats$SecPerGB, p = 0.7, list = FALSE, times = 1)\n",
    "train_data <- randbackupstats[trainIndex,]\n",
    "test_data <- randbackupstats[-trainIndex,]\n",
    "nrow(train_data)\n",
    "nrow(test_data)"
   ]
  },
  {
   "cell_type": "markdown",
   "metadata": {},
   "source": [
    "Let's take a quick look at our training data to make sure that everything turned out alright."
   ]
  },
  {
   "cell_type": "code",
   "execution_count": 158,
   "metadata": {},
   "outputs": [
    {
     "data": {
      "text/html": [
       "<table>\n",
       "<thead><tr><th scope=col>FileCount</th><th scope=col>DatabaseSize</th><th scope=col>BlockSizeKB</th><th scope=col>MaxTransferSize64KB</th><th scope=col>MemoryUsageMB</th><th scope=col>SecPerGB</th></tr></thead>\n",
       "<tbody>\n",
       "\t<tr><td> 4      </td><td>57.89   </td><td> 4      </td><td>64      </td><td>2048.000</td><td>1.986526</td></tr>\n",
       "\t<tr><td> 1      </td><td>57.89   </td><td> 8      </td><td> 1      </td><td>  64.000</td><td>2.072897</td></tr>\n",
       "\t<tr><td> 6      </td><td>57.89   </td><td>64      </td><td> 4      </td><td> 256.000</td><td>1.969252</td></tr>\n",
       "\t<tr><td>10      </td><td>31.73   </td><td> 1      </td><td> 8      </td><td> 128.000</td><td>1.638828</td></tr>\n",
       "\t<tr><td> 1      </td><td>57.89   </td><td>32      </td><td> 1      </td><td>  16.000</td><td>2.176542</td></tr>\n",
       "\t<tr><td> 8      </td><td>57.89   </td><td> 8      </td><td> 2      </td><td>   0.875</td><td>2.193816</td></tr>\n",
       "</tbody>\n",
       "</table>\n"
      ],
      "text/latex": [
       "\\begin{tabular}{r|llllll}\n",
       " FileCount & DatabaseSize & BlockSizeKB & MaxTransferSize64KB & MemoryUsageMB & SecPerGB\\\\\n",
       "\\hline\n",
       "\t  4       & 57.89    &  4       & 64       & 2048.000 & 1.986526\\\\\n",
       "\t  1       & 57.89    &  8       &  1       &   64.000 & 2.072897\\\\\n",
       "\t  6       & 57.89    & 64       &  4       &  256.000 & 1.969252\\\\\n",
       "\t 10       & 31.73    &  1       &  8       &  128.000 & 1.638828\\\\\n",
       "\t  1       & 57.89    & 32       &  1       &   16.000 & 2.176542\\\\\n",
       "\t  8       & 57.89    &  8       &  2       &    0.875 & 2.193816\\\\\n",
       "\\end{tabular}\n"
      ],
      "text/markdown": [
       "\n",
       "FileCount | DatabaseSize | BlockSizeKB | MaxTransferSize64KB | MemoryUsageMB | SecPerGB | \n",
       "|---|---|---|---|---|---|\n",
       "|  4       | 57.89    |  4       | 64       | 2048.000 | 1.986526 | \n",
       "|  1       | 57.89    |  8       |  1       |   64.000 | 2.072897 | \n",
       "|  6       | 57.89    | 64       |  4       |  256.000 | 1.969252 | \n",
       "| 10       | 31.73    |  1       |  8       |  128.000 | 1.638828 | \n",
       "|  1       | 57.89    | 32       |  1       |   16.000 | 2.176542 | \n",
       "|  8       | 57.89    |  8       |  2       |    0.875 | 2.193816 | \n",
       "\n",
       "\n"
      ],
      "text/plain": [
       "  FileCount DatabaseSize BlockSizeKB MaxTransferSize64KB MemoryUsageMB SecPerGB\n",
       "1  4        57.89         4          64                  2048.000      1.986526\n",
       "2  1        57.89         8           1                    64.000      2.072897\n",
       "3  6        57.89        64           4                   256.000      1.969252\n",
       "4 10        31.73         1           8                   128.000      1.638828\n",
       "5  1        57.89        32           1                    16.000      2.176542\n",
       "6  8        57.89         8           2                     0.875      2.193816"
      ]
     },
     "metadata": {},
     "output_type": "display_data"
    }
   ],
   "source": [
    "head(train_data)"
   ]
  },
  {
   "cell_type": "markdown",
   "metadata": {},
   "source": [
    "Here is our new model, built solely against training data."
   ]
  },
  {
   "cell_type": "code",
   "execution_count": 160,
   "metadata": {},
   "outputs": [],
   "source": [
    "modelT <- randomForest::randomForest(SecPerGB ~ BlockSizeKB + MemoryUsageMB + FileCount + DatabaseSize,\n",
    "               data = train_data,\n",
    "               ntree=2000,\n",
    "               importance=TRUE\n",
    "           )"
   ]
  },
  {
   "cell_type": "markdown",
   "metadata": {},
   "source": [
    "We can review the model results.  Our explained variance dropped a good bit versus the random forest with all data."
   ]
  },
  {
   "cell_type": "code",
   "execution_count": 161,
   "metadata": {},
   "outputs": [
    {
     "data": {
      "text/plain": [
       "\n",
       "Call:\n",
       " randomForest(formula = SecPerGB ~ BlockSizeKB + MemoryUsageMB +      FileCount + DatabaseSize, data = train_data, ntree = 2000,      importance = TRUE) \n",
       "               Type of random forest: regression\n",
       "                     Number of trees: 2000\n",
       "No. of variables tried at each split: 1\n",
       "\n",
       "          Mean of squared residuals: 0.06500353\n",
       "                    % Var explained: 41.54"
      ]
     },
     "metadata": {},
     "output_type": "display_data"
    }
   ],
   "source": [
    "modelT"
   ]
  },
  {
   "cell_type": "markdown",
   "metadata": {},
   "source": [
    "I can then generate predictions against our test data using the trained model."
   ]
  },
  {
   "cell_type": "code",
   "execution_count": 162,
   "metadata": {},
   "outputs": [],
   "source": [
    "modelTPred <- predict(modelT, test_data)"
   ]
  },
  {
   "cell_type": "markdown",
   "metadata": {},
   "source": [
    "The `modelTPred` result needs to be converted to a data frame; after that, we can column bind it to our `test_data` data set to show predictions along with input data."
   ]
  },
  {
   "cell_type": "code",
   "execution_count": 163,
   "metadata": {},
   "outputs": [],
   "source": [
    "outcomes <- cbind(test_data, as.data.frame(modelTPred))"
   ]
  },
  {
   "cell_type": "markdown",
   "metadata": {},
   "source": [
    "Now let's look at the outcomes."
   ]
  },
  {
   "cell_type": "code",
   "execution_count": 164,
   "metadata": {},
   "outputs": [
    {
     "data": {
      "text/html": [
       "<table>\n",
       "<thead><tr><th scope=col>FileCount</th><th scope=col>DatabaseSize</th><th scope=col>BlockSizeKB</th><th scope=col>MaxTransferSize64KB</th><th scope=col>MemoryUsageMB</th><th scope=col>SecPerGB</th><th scope=col>modelTPred</th></tr></thead>\n",
       "<tbody>\n",
       "\t<tr><td>2       </td><td> 89.24  </td><td> 4.0    </td><td>64      </td><td>2048.00 </td><td>1.983416</td><td>2.038565</td></tr>\n",
       "\t<tr><td>4       </td><td> 31.73  </td><td> 0.5    </td><td>32      </td><td>  30.00 </td><td>1.953987</td><td>2.198787</td></tr>\n",
       "\t<tr><td>2       </td><td>136.00  </td><td> 1.0    </td><td>32      </td><td> 512.00 </td><td>2.102941</td><td>2.105967</td></tr>\n",
       "\t<tr><td>1       </td><td>136.00  </td><td>32.0    </td><td>32      </td><td> 120.00 </td><td>2.169118</td><td>2.144195</td></tr>\n",
       "\t<tr><td>2       </td><td> 57.89  </td><td> 8.0    </td><td> 8      </td><td> 128.00 </td><td>2.090171</td><td>2.068387</td></tr>\n",
       "\t<tr><td>8       </td><td> 57.89  </td><td> 8.0    </td><td> 2      </td><td>   3.75 </td><td>2.159268</td><td>2.176389</td></tr>\n",
       "</tbody>\n",
       "</table>\n"
      ],
      "text/latex": [
       "\\begin{tabular}{r|lllllll}\n",
       " FileCount & DatabaseSize & BlockSizeKB & MaxTransferSize64KB & MemoryUsageMB & SecPerGB & modelTPred\\\\\n",
       "\\hline\n",
       "\t 2        &  89.24   &  4.0     & 64       & 2048.00  & 1.983416 & 2.038565\\\\\n",
       "\t 4        &  31.73   &  0.5     & 32       &   30.00  & 1.953987 & 2.198787\\\\\n",
       "\t 2        & 136.00   &  1.0     & 32       &  512.00  & 2.102941 & 2.105967\\\\\n",
       "\t 1        & 136.00   & 32.0     & 32       &  120.00  & 2.169118 & 2.144195\\\\\n",
       "\t 2        &  57.89   &  8.0     &  8       &  128.00  & 2.090171 & 2.068387\\\\\n",
       "\t 8        &  57.89   &  8.0     &  2       &    3.75  & 2.159268 & 2.176389\\\\\n",
       "\\end{tabular}\n"
      ],
      "text/markdown": [
       "\n",
       "FileCount | DatabaseSize | BlockSizeKB | MaxTransferSize64KB | MemoryUsageMB | SecPerGB | modelTPred | \n",
       "|---|---|---|---|---|---|\n",
       "| 2        |  89.24   |  4.0     | 64       | 2048.00  | 1.983416 | 2.038565 | \n",
       "| 4        |  31.73   |  0.5     | 32       |   30.00  | 1.953987 | 2.198787 | \n",
       "| 2        | 136.00   |  1.0     | 32       |  512.00  | 2.102941 | 2.105967 | \n",
       "| 1        | 136.00   | 32.0     | 32       |  120.00  | 2.169118 | 2.144195 | \n",
       "| 2        |  57.89   |  8.0     |  8       |  128.00  | 2.090171 | 2.068387 | \n",
       "| 8        |  57.89   |  8.0     |  2       |    3.75  | 2.159268 | 2.176389 | \n",
       "\n",
       "\n"
      ],
      "text/plain": [
       "  FileCount DatabaseSize BlockSizeKB MaxTransferSize64KB MemoryUsageMB SecPerGB\n",
       "1 2          89.24        4.0        64                  2048.00       1.983416\n",
       "2 4          31.73        0.5        32                    30.00       1.953987\n",
       "3 2         136.00        1.0        32                   512.00       2.102941\n",
       "4 1         136.00       32.0        32                   120.00       2.169118\n",
       "5 2          57.89        8.0         8                   128.00       2.090171\n",
       "6 8          57.89        8.0         2                     3.75       2.159268\n",
       "  modelTPred\n",
       "1 2.038565  \n",
       "2 2.198787  \n",
       "3 2.105967  \n",
       "4 2.144195  \n",
       "5 2.068387  \n",
       "6 2.176389  "
      ]
     },
     "metadata": {},
     "output_type": "display_data"
    }
   ],
   "source": [
    "head(outcomes)"
   ]
  },
  {
   "cell_type": "markdown",
   "metadata": {},
   "source": [
    "These predictions aren't incredible, though we can see some hits in here."
   ]
  },
  {
   "cell_type": "markdown",
   "metadata": {},
   "source": [
    "## EV Trees and Genetic Algorithms -- Take 1\n",
    "\n",
    "Another approach we can take is to use genetic algorithms.  This talk won't get into genetic algorithms directly, though if you are interested, you can review [my talk on the topic](https://csmore.info/on/genetics) and [my blog series on the topic](https://36chambers.wordpress.com/genetics-in-action/).\n",
    "\n",
    "We will build an evolutionary tree which matches the regression tree from earlier.  Just like our prior demo, we will use the training data and compare against test data."
   ]
  },
  {
   "cell_type": "code",
   "execution_count": 165,
   "metadata": {},
   "outputs": [],
   "source": [
    "ev <- evtree(SecPerGB ~ BlockSizeKB + MemoryUsageMB + FileCount + DatabaseSize,\n",
    "             data = train_data, minbucket = 10, maxdepth = 4)"
   ]
  },
  {
   "cell_type": "markdown",
   "metadata": {},
   "source": [
    "We can get a visual interpretation of our model using the `plot()` function."
   ]
  },
  {
   "cell_type": "code",
   "execution_count": 166,
   "metadata": {},
   "outputs": [
    {
     "data": {
      "image/png": "[encoded data removed]",
      "text/plain": [
       "plot without title"
      ]
     },
     "metadata": {},
     "output_type": "display_data"
    }
   ],
   "source": [
    "plot(ev)"
   ]
  },
  {
   "cell_type": "markdown",
   "metadata": {},
   "source": [
    "Because the visual interpretation can be a bit tricky, we can also get a treeview version, including some error information."
   ]
  },
  {
   "cell_type": "code",
   "execution_count": 167,
   "metadata": {},
   "outputs": [
    {
     "data": {
      "text/plain": [
       "\n",
       "Model formula:\n",
       "SecPerGB ~ BlockSizeKB + MemoryUsageMB + FileCount + DatabaseSize\n",
       "\n",
       "Fitted party:\n",
       "[1] root\n",
       "|   [2] DatabaseSize < 50\n",
       "|   |   [3] MemoryUsageMB < 32: 2.189 (n = 44, err = 19.0)\n",
       "|   |   [4] MemoryUsageMB >= 32: 1.764 (n = 57, err = 1.4)\n",
       "|   [5] DatabaseSize >= 50\n",
       "|   |   [6] MemoryUsageMB < 64\n",
       "|   |   |   [7] DatabaseSize < 57.89: 2.610 (n = 35, err = 1.3)\n",
       "|   |   |   [8] DatabaseSize >= 57.89: 2.219 (n = 126, err = 1.9)\n",
       "|   |   [9] MemoryUsageMB >= 64: 2.048 (n = 119, err = 1.0)\n",
       "\n",
       "Number of inner nodes:    4\n",
       "Number of terminal nodes: 5"
      ]
     },
     "metadata": {},
     "output_type": "display_data"
    }
   ],
   "source": [
    "ev"
   ]
  },
  {
   "cell_type": "markdown",
   "metadata": {},
   "source": [
    "Let's now build out our predictions and append them to test_data."
   ]
  },
  {
   "cell_type": "code",
   "execution_count": 168,
   "metadata": {},
   "outputs": [],
   "source": [
    "test_data$PredSecPerGB <- predict(ev, test_data)"
   ]
  },
  {
   "cell_type": "code",
   "execution_count": 169,
   "metadata": {},
   "outputs": [
    {
     "data": {
      "text/html": [
       "<table>\n",
       "<thead><tr><th scope=col>FileCount</th><th scope=col>DatabaseSize</th><th scope=col>BlockSizeKB</th><th scope=col>MaxTransferSize64KB</th><th scope=col>MemoryUsageMB</th><th scope=col>SecPerGB</th><th scope=col>PredSecPerGB</th></tr></thead>\n",
       "<tbody>\n",
       "\t<tr><td>2       </td><td> 89.24  </td><td> 4.0    </td><td>64      </td><td>2048.00 </td><td>1.983416</td><td>2.047712</td></tr>\n",
       "\t<tr><td>4       </td><td> 31.73  </td><td> 0.5    </td><td>32      </td><td>  30.00 </td><td>1.953987</td><td>2.188674</td></tr>\n",
       "\t<tr><td>2       </td><td>136.00  </td><td> 1.0    </td><td>32      </td><td> 512.00 </td><td>2.102941</td><td>2.047712</td></tr>\n",
       "\t<tr><td>1       </td><td>136.00  </td><td>32.0    </td><td>32      </td><td> 120.00 </td><td>2.169118</td><td>2.047712</td></tr>\n",
       "\t<tr><td>2       </td><td> 57.89  </td><td> 8.0    </td><td> 8      </td><td> 128.00 </td><td>2.090171</td><td>2.047712</td></tr>\n",
       "\t<tr><td>8       </td><td> 57.89  </td><td> 8.0    </td><td> 2      </td><td>   3.75 </td><td>2.159268</td><td>2.219270</td></tr>\n",
       "</tbody>\n",
       "</table>\n"
      ],
      "text/latex": [
       "\\begin{tabular}{r|lllllll}\n",
       " FileCount & DatabaseSize & BlockSizeKB & MaxTransferSize64KB & MemoryUsageMB & SecPerGB & PredSecPerGB\\\\\n",
       "\\hline\n",
       "\t 2        &  89.24   &  4.0     & 64       & 2048.00  & 1.983416 & 2.047712\\\\\n",
       "\t 4        &  31.73   &  0.5     & 32       &   30.00  & 1.953987 & 2.188674\\\\\n",
       "\t 2        & 136.00   &  1.0     & 32       &  512.00  & 2.102941 & 2.047712\\\\\n",
       "\t 1        & 136.00   & 32.0     & 32       &  120.00  & 2.169118 & 2.047712\\\\\n",
       "\t 2        &  57.89   &  8.0     &  8       &  128.00  & 2.090171 & 2.047712\\\\\n",
       "\t 8        &  57.89   &  8.0     &  2       &    3.75  & 2.159268 & 2.219270\\\\\n",
       "\\end{tabular}\n"
      ],
      "text/markdown": [
       "\n",
       "FileCount | DatabaseSize | BlockSizeKB | MaxTransferSize64KB | MemoryUsageMB | SecPerGB | PredSecPerGB | \n",
       "|---|---|---|---|---|---|\n",
       "| 2        |  89.24   |  4.0     | 64       | 2048.00  | 1.983416 | 2.047712 | \n",
       "| 4        |  31.73   |  0.5     | 32       |   30.00  | 1.953987 | 2.188674 | \n",
       "| 2        | 136.00   |  1.0     | 32       |  512.00  | 2.102941 | 2.047712 | \n",
       "| 1        | 136.00   | 32.0     | 32       |  120.00  | 2.169118 | 2.047712 | \n",
       "| 2        |  57.89   |  8.0     |  8       |  128.00  | 2.090171 | 2.047712 | \n",
       "| 8        |  57.89   |  8.0     |  2       |    3.75  | 2.159268 | 2.219270 | \n",
       "\n",
       "\n"
      ],
      "text/plain": [
       "  FileCount DatabaseSize BlockSizeKB MaxTransferSize64KB MemoryUsageMB SecPerGB\n",
       "1 2          89.24        4.0        64                  2048.00       1.983416\n",
       "2 4          31.73        0.5        32                    30.00       1.953987\n",
       "3 2         136.00        1.0        32                   512.00       2.102941\n",
       "4 1         136.00       32.0        32                   120.00       2.169118\n",
       "5 2          57.89        8.0         8                   128.00       2.090171\n",
       "6 8          57.89        8.0         2                     3.75       2.159268\n",
       "  PredSecPerGB\n",
       "1 2.047712    \n",
       "2 2.188674    \n",
       "3 2.047712    \n",
       "4 2.047712    \n",
       "5 2.047712    \n",
       "6 2.219270    "
      ]
     },
     "metadata": {},
     "output_type": "display_data"
    }
   ],
   "source": [
    "head(test_data)"
   ]
  },
  {
   "cell_type": "markdown",
   "metadata": {},
   "source": [
    "Not as many obvious hits here, though it does seem like we're missing in both directions so it doesn't appear too biased.  Of course, drawing these sorts of conclusions from the first six results is a terrible idea.\n",
    "\n",
    "Let's look at the Root Mean Squared Error.  This gives us a measure of how far off we are in the unit of our dependent variable."
   ]
  },
  {
   "cell_type": "code",
   "execution_count": 170,
   "metadata": {},
   "outputs": [
    {
     "data": {
      "text/html": [
       "0.15465876947363"
      ],
      "text/latex": [
       "0.15465876947363"
      ],
      "text/markdown": [
       "0.15465876947363"
      ],
      "text/plain": [
       "[1] 0.1546588"
      ]
     },
     "metadata": {},
     "output_type": "display_data"
    }
   ],
   "source": [
    "sqrt(mean((test_data$SecPerGB - test_data$PredSecPerGB)^2))"
   ]
  },
  {
   "cell_type": "markdown",
   "metadata": {},
   "source": [
    "This means we are, on average 0.15 seconds per GB off.  For a 136 GB file, that's a difference of 20.4 seconds.  By contrast, here is the range of values for that file:"
   ]
  },
  {
   "cell_type": "code",
   "execution_count": 171,
   "metadata": {},
   "outputs": [
    {
     "data": {
      "text/plain": [
       "   Min. 1st Qu.  Median    Mean 3rd Qu.    Max. \n",
       "  267.0   287.5   292.0   292.7   301.0   308.0 "
      ]
     },
     "metadata": {},
     "output_type": "display_data"
    }
   ],
   "source": [
    "summary(bac_136gb$Duration)"
   ]
  },
  {
   "cell_type": "markdown",
   "metadata": {},
   "source": [
    "Given that we have a 31-second split, being off by 20.4 isn't a great result.  This particular EV tree doesn't look like it helps us much.  So let's try a different version."
   ]
  },
  {
   "cell_type": "markdown",
   "metadata": {},
   "source": [
    "## EV Trees and Genetic Algorithms -- Take 2\n",
    "\n",
    "Although we won't use proper training and testing, we can compare this model to the random forest above."
   ]
  },
  {
   "cell_type": "code",
   "execution_count": 172,
   "metadata": {},
   "outputs": [],
   "source": [
    "ev2 <- evtree(Duration ~ BlockSizeKB + MemoryUsageMB + FileCount + DatabaseSize,\n",
    "               data = backupstats,\n",
    "               minbucket = 10,\n",
    "               maxdepth = 4\n",
    "           )"
   ]
  },
  {
   "cell_type": "markdown",
   "metadata": {},
   "source": [
    "Here's what the plot looks like."
   ]
  },
  {
   "cell_type": "code",
   "execution_count": 173,
   "metadata": {},
   "outputs": [
    {
     "data": {
      "image/png": "[encoded data removed]",
      "text/plain": [
       "plot without title"
      ]
     },
     "metadata": {},
     "output_type": "display_data"
    }
   ],
   "source": [
    "plot(ev2)"
   ]
  },
  {
   "cell_type": "markdown",
   "metadata": {},
   "source": [
    "Our model got a lot more complicated, so now the treeview becomes important."
   ]
  },
  {
   "cell_type": "code",
   "execution_count": 174,
   "metadata": {},
   "outputs": [
    {
     "data": {
      "text/plain": [
       "\n",
       "Model formula:\n",
       "Duration ~ BlockSizeKB + MemoryUsageMB + FileCount + DatabaseSize\n",
       "\n",
       "Fitted party:\n",
       "[1] root\n",
       "|   [2] DatabaseSize < 50\n",
       "|   |   [3] DatabaseSize < 31.73: 18.893 (n = 56, err = 279.4)\n",
       "|   |   [4] DatabaseSize >= 31.73\n",
       "|   |   |   [5] MemoryUsageMB < 32: 69.163 (n = 43, err = 19251.9)\n",
       "|   |   |   [6] MemoryUsageMB >= 32: 55.115 (n = 52, err = 1569.3)\n",
       "|   [7] DatabaseSize >= 50\n",
       "|   |   [8] DatabaseSize < 89.24\n",
       "|   |   |   [9] MemoryUsageMB < 60\n",
       "|   |   |   |   [10] FileCount < 6: 136.395 (n = 43, err = 3262.3)\n",
       "|   |   |   |   [11] FileCount >= 6: 124.613 (n = 62, err = 2714.7)\n",
       "|   |   |   [12] MemoryUsageMB >= 60: 111.229 (n = 83, err = 5062.7)\n",
       "|   |   [13] DatabaseSize >= 89.24\n",
       "|   |   |   [14] DatabaseSize < 136\n",
       "|   |   |   |   [15] MemoryUsageMB < 128: 200.619 (n = 63, err = 4422.9)\n",
       "|   |   |   |   [16] MemoryUsageMB >= 128: 179.028 (n = 36, err = 407.0)\n",
       "|   |   |   [17] DatabaseSize >= 136\n",
       "|   |   |   |   [18] MemoryUsageMB < 60: 300.956 (n = 45, err = 947.9)\n",
       "|   |   |   |   [19] MemoryUsageMB >= 60: 286.259 (n = 58, err = 2577.1)\n",
       "\n",
       "Number of inner nodes:     9\n",
       "Number of terminal nodes: 10"
      ]
     },
     "metadata": {},
     "output_type": "display_data"
    }
   ],
   "source": [
    "ev2"
   ]
  },
  {
   "cell_type": "markdown",
   "metadata": {},
   "source": [
    "Here is our new Root Mean Squared Error, this time in seconds rather than seconds per gigabyte."
   ]
  },
  {
   "cell_type": "code",
   "execution_count": 175,
   "metadata": {},
   "outputs": [
    {
     "data": {
      "text/html": [
       "8.65171505608501"
      ],
      "text/latex": [
       "8.65171505608501"
      ],
      "text/markdown": [
       "8.65171505608501"
      ],
      "text/plain": [
       "[1] 8.651715"
      ]
     },
     "metadata": {},
     "output_type": "display_data"
    }
   ],
   "source": [
    "sqrt(mean((backupstats$Duration - predict(ev2))^2))"
   ]
  },
  {
   "cell_type": "markdown",
   "metadata": {},
   "source": [
    "This says that, for our training data set, we tend to be about 8.7 seconds off.  Here is the range of values:"
   ]
  },
  {
   "cell_type": "code",
   "execution_count": 176,
   "metadata": {},
   "outputs": [
    {
     "data": {
      "text/plain": [
       "   Min. 1st Qu.  Median    Mean 3rd Qu.    Max. \n",
       "   16.0    66.0   125.0   145.9   201.0   308.0 "
      ]
     },
     "metadata": {},
     "output_type": "display_data"
    },
    {
     "data": {
      "text/html": [
       "<table>\n",
       "<thead><tr><th scope=col>DatabaseSize</th><th scope=col>min</th><th scope=col>max</th><th scope=col>n</th><th scope=col>mean</th></tr></thead>\n",
       "<tbody>\n",
       "\t<tr><td> 10.00   </td><td> 16      </td><td> 24      </td><td> 56      </td><td> 18.89286</td></tr>\n",
       "\t<tr><td> 31.73   </td><td> 39      </td><td>148      </td><td> 95      </td><td> 61.47368</td></tr>\n",
       "\t<tr><td> 50.00   </td><td> 92      </td><td>148      </td><td> 90      </td><td>120.66667</td></tr>\n",
       "\t<tr><td> 57.89   </td><td>114      </td><td>154      </td><td> 98      </td><td>122.07143</td></tr>\n",
       "\t<tr><td> 89.24   </td><td>175      </td><td>218      </td><td> 99      </td><td>192.76768</td></tr>\n",
       "\t<tr><td>136.00   </td><td>267      </td><td>308      </td><td>103      </td><td>292.67961</td></tr>\n",
       "</tbody>\n",
       "</table>\n"
      ],
      "text/latex": [
       "\\begin{tabular}{r|lllll}\n",
       " DatabaseSize & min & max & n & mean\\\\\n",
       "\\hline\n",
       "\t  10.00    &  16       &  24       &  56       &  18.89286\\\\\n",
       "\t  31.73    &  39       & 148       &  95       &  61.47368\\\\\n",
       "\t  50.00    &  92       & 148       &  90       & 120.66667\\\\\n",
       "\t  57.89    & 114       & 154       &  98       & 122.07143\\\\\n",
       "\t  89.24    & 175       & 218       &  99       & 192.76768\\\\\n",
       "\t 136.00    & 267       & 308       & 103       & 292.67961\\\\\n",
       "\\end{tabular}\n"
      ],
      "text/markdown": [
       "\n",
       "DatabaseSize | min | max | n | mean | \n",
       "|---|---|---|---|---|---|\n",
       "|  10.00    |  16       |  24       |  56       |  18.89286 | \n",
       "|  31.73    |  39       | 148       |  95       |  61.47368 | \n",
       "|  50.00    |  92       | 148       |  90       | 120.66667 | \n",
       "|  57.89    | 114       | 154       |  98       | 122.07143 | \n",
       "|  89.24    | 175       | 218       |  99       | 192.76768 | \n",
       "| 136.00    | 267       | 308       | 103       | 292.67961 | \n",
       "\n",
       "\n"
      ],
      "text/plain": [
       "  DatabaseSize min max n   mean     \n",
       "1  10.00        16  24  56  18.89286\n",
       "2  31.73        39 148  95  61.47368\n",
       "3  50.00        92 148  90 120.66667\n",
       "4  57.89       114 154  98 122.07143\n",
       "5  89.24       175 218  99 192.76768\n",
       "6 136.00       267 308 103 292.67961"
      ]
     },
     "metadata": {},
     "output_type": "display_data"
    }
   ],
   "source": [
    "summary(backupstats$Duration)\n",
    "\n",
    "backupstats %>%\n",
    "    group_by(DatabaseSize) %>%\n",
    "    summarize (min = min(Duration), max = max(Duration), n = n(), mean = mean(Duration))"
   ]
  },
  {
   "cell_type": "markdown",
   "metadata": {},
   "source": [
    "## Conclusion\n",
    "\n",
    "There are a few interesting takeaways here.\n",
    "\n",
    "* If you are looking at estimating backup duration, database size will dominate.\n",
    "* Converting our measure to instead minimize processing time (seconds per gigabyte of data), database size no longer dominates, though it is interesting that it still remains pertinent.\n",
    "* Block size is not particularly helpful in any of these models.\n",
    "* The linear model does a mediocre job of estimating backup performance, telling us that our problem is not linear in nature but we can kind of estimate it as linear with enough data."
   ]
  },
  {
   "cell_type": "code",
   "execution_count": null,
   "metadata": {},
   "outputs": [],
   "source": []
  }
 ],
 "metadata": {
  "kernelspec": {
   "display_name": "R",
   "language": "R",
   "name": "ir"
  },
  "language_info": {
   "codemirror_mode": "r",
   "file_extension": ".r",
   "mimetype": "text/x-r-source",
   "name": "R",
   "pygments_lexer": "r",
   "version": "3.5.1"
  }
 },
 "nbformat": 4,
 "nbformat_minor": 2
}
